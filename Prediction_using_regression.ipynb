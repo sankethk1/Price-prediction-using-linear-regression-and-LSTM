{
  "nbformat": 4,
  "nbformat_minor": 0,
  "metadata": {
    "colab": {
      "provenance": [],
      "authorship_tag": "ABX9TyNeyM/uH+lqil0wXzjy4dDp",
      "include_colab_link": true
    },
    "kernelspec": {
      "name": "python3",
      "display_name": "Python 3"
    },
    "language_info": {
      "name": "python"
    }
  },
  "cells": [
    {
      "cell_type": "markdown",
      "metadata": {
        "id": "view-in-github",
        "colab_type": "text"
      },
      "source": [
        "<a href=\"https://colab.research.google.com/github/sankethk1/Price-prediction-using-linear-regression-and-LSTM/blob/main/Prediction_using_regression.ipynb\" target=\"_parent\"><img src=\"https://colab.research.google.com/assets/colab-badge.svg\" alt=\"Open In Colab\"/></a>"
      ]
    },
    {
      "cell_type": "code",
      "execution_count": null,
      "metadata": {
        "id": "YuH7ke_27kpe"
      },
      "outputs": [],
      "source": [
        "import numpy as np\n",
        "import pandas as pd\n",
        "import matplotlib.pyplot as plt\n",
        "import tensorflow as tf\n",
        "from sklearn.linear_model import SGDRegressor\n",
        "from sklearn.linear_model import LinearRegression\n",
        "from sklearn.preprocessing import StandardScaler\n",
        "from sklearn.metrics import mean_squared_error\n",
        "from sklearn.metrics import r2_score\n",
        "from pylab import rcParams\n",
        "import math"
      ]
    },
    {
      "cell_type": "code",
      "source": [
        "\n",
        "from google.colab import files\n",
        "\n",
        "\n",
        "uploaded = files.upload()"
      ],
      "metadata": {
        "colab": {
          "base_uri": "https://localhost:8080/",
          "height": 73
        },
        "id": "TAEk7R9H9ynZ",
        "outputId": "f4754fb3-b2fb-47af-d5d4-51e2fb635b42"
      },
      "execution_count": null,
      "outputs": [
        {
          "output_type": "display_data",
          "data": {
            "text/plain": [
              "<IPython.core.display.HTML object>"
            ],
            "text/html": [
              "\n",
              "     <input type=\"file\" id=\"files-82ff2545-3e58-4bb9-b39f-d302344a362d\" name=\"files[]\" multiple disabled\n",
              "        style=\"border:none\" />\n",
              "     <output id=\"result-82ff2545-3e58-4bb9-b39f-d302344a362d\">\n",
              "      Upload widget is only available when the cell has been executed in the\n",
              "      current browser session. Please rerun this cell to enable.\n",
              "      </output>\n",
              "      <script>// Copyright 2017 Google LLC\n",
              "//\n",
              "// Licensed under the Apache License, Version 2.0 (the \"License\");\n",
              "// you may not use this file except in compliance with the License.\n",
              "// You may obtain a copy of the License at\n",
              "//\n",
              "//      http://www.apache.org/licenses/LICENSE-2.0\n",
              "//\n",
              "// Unless required by applicable law or agreed to in writing, software\n",
              "// distributed under the License is distributed on an \"AS IS\" BASIS,\n",
              "// WITHOUT WARRANTIES OR CONDITIONS OF ANY KIND, either express or implied.\n",
              "// See the License for the specific language governing permissions and\n",
              "// limitations under the License.\n",
              "\n",
              "/**\n",
              " * @fileoverview Helpers for google.colab Python module.\n",
              " */\n",
              "(function(scope) {\n",
              "function span(text, styleAttributes = {}) {\n",
              "  const element = document.createElement('span');\n",
              "  element.textContent = text;\n",
              "  for (const key of Object.keys(styleAttributes)) {\n",
              "    element.style[key] = styleAttributes[key];\n",
              "  }\n",
              "  return element;\n",
              "}\n",
              "\n",
              "// Max number of bytes which will be uploaded at a time.\n",
              "const MAX_PAYLOAD_SIZE = 100 * 1024;\n",
              "\n",
              "function _uploadFiles(inputId, outputId) {\n",
              "  const steps = uploadFilesStep(inputId, outputId);\n",
              "  const outputElement = document.getElementById(outputId);\n",
              "  // Cache steps on the outputElement to make it available for the next call\n",
              "  // to uploadFilesContinue from Python.\n",
              "  outputElement.steps = steps;\n",
              "\n",
              "  return _uploadFilesContinue(outputId);\n",
              "}\n",
              "\n",
              "// This is roughly an async generator (not supported in the browser yet),\n",
              "// where there are multiple asynchronous steps and the Python side is going\n",
              "// to poll for completion of each step.\n",
              "// This uses a Promise to block the python side on completion of each step,\n",
              "// then passes the result of the previous step as the input to the next step.\n",
              "function _uploadFilesContinue(outputId) {\n",
              "  const outputElement = document.getElementById(outputId);\n",
              "  const steps = outputElement.steps;\n",
              "\n",
              "  const next = steps.next(outputElement.lastPromiseValue);\n",
              "  return Promise.resolve(next.value.promise).then((value) => {\n",
              "    // Cache the last promise value to make it available to the next\n",
              "    // step of the generator.\n",
              "    outputElement.lastPromiseValue = value;\n",
              "    return next.value.response;\n",
              "  });\n",
              "}\n",
              "\n",
              "/**\n",
              " * Generator function which is called between each async step of the upload\n",
              " * process.\n",
              " * @param {string} inputId Element ID of the input file picker element.\n",
              " * @param {string} outputId Element ID of the output display.\n",
              " * @return {!Iterable<!Object>} Iterable of next steps.\n",
              " */\n",
              "function* uploadFilesStep(inputId, outputId) {\n",
              "  const inputElement = document.getElementById(inputId);\n",
              "  inputElement.disabled = false;\n",
              "\n",
              "  const outputElement = document.getElementById(outputId);\n",
              "  outputElement.innerHTML = '';\n",
              "\n",
              "  const pickedPromise = new Promise((resolve) => {\n",
              "    inputElement.addEventListener('change', (e) => {\n",
              "      resolve(e.target.files);\n",
              "    });\n",
              "  });\n",
              "\n",
              "  const cancel = document.createElement('button');\n",
              "  inputElement.parentElement.appendChild(cancel);\n",
              "  cancel.textContent = 'Cancel upload';\n",
              "  const cancelPromise = new Promise((resolve) => {\n",
              "    cancel.onclick = () => {\n",
              "      resolve(null);\n",
              "    };\n",
              "  });\n",
              "\n",
              "  // Wait for the user to pick the files.\n",
              "  const files = yield {\n",
              "    promise: Promise.race([pickedPromise, cancelPromise]),\n",
              "    response: {\n",
              "      action: 'starting',\n",
              "    }\n",
              "  };\n",
              "\n",
              "  cancel.remove();\n",
              "\n",
              "  // Disable the input element since further picks are not allowed.\n",
              "  inputElement.disabled = true;\n",
              "\n",
              "  if (!files) {\n",
              "    return {\n",
              "      response: {\n",
              "        action: 'complete',\n",
              "      }\n",
              "    };\n",
              "  }\n",
              "\n",
              "  for (const file of files) {\n",
              "    const li = document.createElement('li');\n",
              "    li.append(span(file.name, {fontWeight: 'bold'}));\n",
              "    li.append(span(\n",
              "        `(${file.type || 'n/a'}) - ${file.size} bytes, ` +\n",
              "        `last modified: ${\n",
              "            file.lastModifiedDate ? file.lastModifiedDate.toLocaleDateString() :\n",
              "                                    'n/a'} - `));\n",
              "    const percent = span('0% done');\n",
              "    li.appendChild(percent);\n",
              "\n",
              "    outputElement.appendChild(li);\n",
              "\n",
              "    const fileDataPromise = new Promise((resolve) => {\n",
              "      const reader = new FileReader();\n",
              "      reader.onload = (e) => {\n",
              "        resolve(e.target.result);\n",
              "      };\n",
              "      reader.readAsArrayBuffer(file);\n",
              "    });\n",
              "    // Wait for the data to be ready.\n",
              "    let fileData = yield {\n",
              "      promise: fileDataPromise,\n",
              "      response: {\n",
              "        action: 'continue',\n",
              "      }\n",
              "    };\n",
              "\n",
              "    // Use a chunked sending to avoid message size limits. See b/62115660.\n",
              "    let position = 0;\n",
              "    do {\n",
              "      const length = Math.min(fileData.byteLength - position, MAX_PAYLOAD_SIZE);\n",
              "      const chunk = new Uint8Array(fileData, position, length);\n",
              "      position += length;\n",
              "\n",
              "      const base64 = btoa(String.fromCharCode.apply(null, chunk));\n",
              "      yield {\n",
              "        response: {\n",
              "          action: 'append',\n",
              "          file: file.name,\n",
              "          data: base64,\n",
              "        },\n",
              "      };\n",
              "\n",
              "      let percentDone = fileData.byteLength === 0 ?\n",
              "          100 :\n",
              "          Math.round((position / fileData.byteLength) * 100);\n",
              "      percent.textContent = `${percentDone}% done`;\n",
              "\n",
              "    } while (position < fileData.byteLength);\n",
              "  }\n",
              "\n",
              "  // All done.\n",
              "  yield {\n",
              "    response: {\n",
              "      action: 'complete',\n",
              "    }\n",
              "  };\n",
              "}\n",
              "\n",
              "scope.google = scope.google || {};\n",
              "scope.google.colab = scope.google.colab || {};\n",
              "scope.google.colab._files = {\n",
              "  _uploadFiles,\n",
              "  _uploadFilesContinue,\n",
              "};\n",
              "})(self);\n",
              "</script> "
            ]
          },
          "metadata": {}
        },
        {
          "output_type": "stream",
          "name": "stdout",
          "text": [
            "Saving titan_lstm.csv to titan_lstm.csv\n"
          ]
        }
      ]
    },
    {
      "cell_type": "code",
      "source": [
        "df = pd.read_csv('titan_lstm.csv')"
      ],
      "metadata": {
        "id": "5MU5O7W68mtL"
      },
      "execution_count": null,
      "outputs": []
    },
    {
      "cell_type": "code",
      "source": [
        "df.head()"
      ],
      "metadata": {
        "colab": {
          "base_uri": "https://localhost:8080/",
          "height": 206
        },
        "id": "QQN-8Jon98mm",
        "outputId": "ccf347e8-f8eb-4806-e0c4-08200551832c"
      },
      "execution_count": null,
      "outputs": [
        {
          "output_type": "execute_result",
          "data": {
            "text/plain": [
              "         date   Price   Open    High     Low  Chg%\n",
              "0  01-01-2014  230.80  230.0  232.50  229.35  0.01\n",
              "1  02-01-2014  226.35  229.5  235.95  225.10 -0.02\n",
              "2  03-01-2014  227.40  226.0  228.75  224.00  0.00\n",
              "3  06-01-2014  227.80  228.0  230.30  225.55  0.00\n",
              "4  07-01-2014  226.05  230.0  230.90  224.80 -0.01"
            ],
            "text/html": [
              "\n",
              "\n",
              "  <div id=\"df-df5bfc91-ea5e-4da3-adba-2a40ea2a9520\">\n",
              "    <div class=\"colab-df-container\">\n",
              "      <div>\n",
              "<style scoped>\n",
              "    .dataframe tbody tr th:only-of-type {\n",
              "        vertical-align: middle;\n",
              "    }\n",
              "\n",
              "    .dataframe tbody tr th {\n",
              "        vertical-align: top;\n",
              "    }\n",
              "\n",
              "    .dataframe thead th {\n",
              "        text-align: right;\n",
              "    }\n",
              "</style>\n",
              "<table border=\"1\" class=\"dataframe\">\n",
              "  <thead>\n",
              "    <tr style=\"text-align: right;\">\n",
              "      <th></th>\n",
              "      <th>date</th>\n",
              "      <th>Price</th>\n",
              "      <th>Open</th>\n",
              "      <th>High</th>\n",
              "      <th>Low</th>\n",
              "      <th>Chg%</th>\n",
              "    </tr>\n",
              "  </thead>\n",
              "  <tbody>\n",
              "    <tr>\n",
              "      <th>0</th>\n",
              "      <td>01-01-2014</td>\n",
              "      <td>230.80</td>\n",
              "      <td>230.0</td>\n",
              "      <td>232.50</td>\n",
              "      <td>229.35</td>\n",
              "      <td>0.01</td>\n",
              "    </tr>\n",
              "    <tr>\n",
              "      <th>1</th>\n",
              "      <td>02-01-2014</td>\n",
              "      <td>226.35</td>\n",
              "      <td>229.5</td>\n",
              "      <td>235.95</td>\n",
              "      <td>225.10</td>\n",
              "      <td>-0.02</td>\n",
              "    </tr>\n",
              "    <tr>\n",
              "      <th>2</th>\n",
              "      <td>03-01-2014</td>\n",
              "      <td>227.40</td>\n",
              "      <td>226.0</td>\n",
              "      <td>228.75</td>\n",
              "      <td>224.00</td>\n",
              "      <td>0.00</td>\n",
              "    </tr>\n",
              "    <tr>\n",
              "      <th>3</th>\n",
              "      <td>06-01-2014</td>\n",
              "      <td>227.80</td>\n",
              "      <td>228.0</td>\n",
              "      <td>230.30</td>\n",
              "      <td>225.55</td>\n",
              "      <td>0.00</td>\n",
              "    </tr>\n",
              "    <tr>\n",
              "      <th>4</th>\n",
              "      <td>07-01-2014</td>\n",
              "      <td>226.05</td>\n",
              "      <td>230.0</td>\n",
              "      <td>230.90</td>\n",
              "      <td>224.80</td>\n",
              "      <td>-0.01</td>\n",
              "    </tr>\n",
              "  </tbody>\n",
              "</table>\n",
              "</div>\n",
              "      <button class=\"colab-df-convert\" onclick=\"convertToInteractive('df-df5bfc91-ea5e-4da3-adba-2a40ea2a9520')\"\n",
              "              title=\"Convert this dataframe to an interactive table.\"\n",
              "              style=\"display:none;\">\n",
              "\n",
              "  <svg xmlns=\"http://www.w3.org/2000/svg\" height=\"24px\"viewBox=\"0 0 24 24\"\n",
              "       width=\"24px\">\n",
              "    <path d=\"M0 0h24v24H0V0z\" fill=\"none\"/>\n",
              "    <path d=\"M18.56 5.44l.94 2.06.94-2.06 2.06-.94-2.06-.94-.94-2.06-.94 2.06-2.06.94zm-11 1L8.5 8.5l.94-2.06 2.06-.94-2.06-.94L8.5 2.5l-.94 2.06-2.06.94zm10 10l.94 2.06.94-2.06 2.06-.94-2.06-.94-.94-2.06-.94 2.06-2.06.94z\"/><path d=\"M17.41 7.96l-1.37-1.37c-.4-.4-.92-.59-1.43-.59-.52 0-1.04.2-1.43.59L10.3 9.45l-7.72 7.72c-.78.78-.78 2.05 0 2.83L4 21.41c.39.39.9.59 1.41.59.51 0 1.02-.2 1.41-.59l7.78-7.78 2.81-2.81c.8-.78.8-2.07 0-2.86zM5.41 20L4 18.59l7.72-7.72 1.47 1.35L5.41 20z\"/>\n",
              "  </svg>\n",
              "      </button>\n",
              "\n",
              "\n",
              "\n",
              "    <div id=\"df-128d0ea7-16b3-4901-ae0d-1934f1310c2c\">\n",
              "      <button class=\"colab-df-quickchart\" onclick=\"quickchart('df-128d0ea7-16b3-4901-ae0d-1934f1310c2c')\"\n",
              "              title=\"Suggest charts.\"\n",
              "              style=\"display:none;\">\n",
              "\n",
              "<svg xmlns=\"http://www.w3.org/2000/svg\" height=\"24px\"viewBox=\"0 0 24 24\"\n",
              "     width=\"24px\">\n",
              "    <g>\n",
              "        <path d=\"M19 3H5c-1.1 0-2 .9-2 2v14c0 1.1.9 2 2 2h14c1.1 0 2-.9 2-2V5c0-1.1-.9-2-2-2zM9 17H7v-7h2v7zm4 0h-2V7h2v10zm4 0h-2v-4h2v4z\"/>\n",
              "    </g>\n",
              "</svg>\n",
              "      </button>\n",
              "    </div>\n",
              "\n",
              "<style>\n",
              "  .colab-df-quickchart {\n",
              "    background-color: #E8F0FE;\n",
              "    border: none;\n",
              "    border-radius: 50%;\n",
              "    cursor: pointer;\n",
              "    display: none;\n",
              "    fill: #1967D2;\n",
              "    height: 32px;\n",
              "    padding: 0 0 0 0;\n",
              "    width: 32px;\n",
              "  }\n",
              "\n",
              "  .colab-df-quickchart:hover {\n",
              "    background-color: #E2EBFA;\n",
              "    box-shadow: 0px 1px 2px rgba(60, 64, 67, 0.3), 0px 1px 3px 1px rgba(60, 64, 67, 0.15);\n",
              "    fill: #174EA6;\n",
              "  }\n",
              "\n",
              "  [theme=dark] .colab-df-quickchart {\n",
              "    background-color: #3B4455;\n",
              "    fill: #D2E3FC;\n",
              "  }\n",
              "\n",
              "  [theme=dark] .colab-df-quickchart:hover {\n",
              "    background-color: #434B5C;\n",
              "    box-shadow: 0px 1px 3px 1px rgba(0, 0, 0, 0.15);\n",
              "    filter: drop-shadow(0px 1px 2px rgba(0, 0, 0, 0.3));\n",
              "    fill: #FFFFFF;\n",
              "  }\n",
              "</style>\n",
              "\n",
              "    <script>\n",
              "      async function quickchart(key) {\n",
              "        const containerElement = document.querySelector('#' + key);\n",
              "        const charts = await google.colab.kernel.invokeFunction(\n",
              "            'suggestCharts', [key], {});\n",
              "      }\n",
              "    </script>\n",
              "\n",
              "      <script>\n",
              "\n",
              "function displayQuickchartButton(domScope) {\n",
              "  let quickchartButtonEl =\n",
              "    domScope.querySelector('#df-128d0ea7-16b3-4901-ae0d-1934f1310c2c button.colab-df-quickchart');\n",
              "  quickchartButtonEl.style.display =\n",
              "    google.colab.kernel.accessAllowed ? 'block' : 'none';\n",
              "}\n",
              "\n",
              "        displayQuickchartButton(document);\n",
              "      </script>\n",
              "      <style>\n",
              "    .colab-df-container {\n",
              "      display:flex;\n",
              "      flex-wrap:wrap;\n",
              "      gap: 12px;\n",
              "    }\n",
              "\n",
              "    .colab-df-convert {\n",
              "      background-color: #E8F0FE;\n",
              "      border: none;\n",
              "      border-radius: 50%;\n",
              "      cursor: pointer;\n",
              "      display: none;\n",
              "      fill: #1967D2;\n",
              "      height: 32px;\n",
              "      padding: 0 0 0 0;\n",
              "      width: 32px;\n",
              "    }\n",
              "\n",
              "    .colab-df-convert:hover {\n",
              "      background-color: #E2EBFA;\n",
              "      box-shadow: 0px 1px 2px rgba(60, 64, 67, 0.3), 0px 1px 3px 1px rgba(60, 64, 67, 0.15);\n",
              "      fill: #174EA6;\n",
              "    }\n",
              "\n",
              "    [theme=dark] .colab-df-convert {\n",
              "      background-color: #3B4455;\n",
              "      fill: #D2E3FC;\n",
              "    }\n",
              "\n",
              "    [theme=dark] .colab-df-convert:hover {\n",
              "      background-color: #434B5C;\n",
              "      box-shadow: 0px 1px 3px 1px rgba(0, 0, 0, 0.15);\n",
              "      filter: drop-shadow(0px 1px 2px rgba(0, 0, 0, 0.3));\n",
              "      fill: #FFFFFF;\n",
              "    }\n",
              "  </style>\n",
              "\n",
              "      <script>\n",
              "        const buttonEl =\n",
              "          document.querySelector('#df-df5bfc91-ea5e-4da3-adba-2a40ea2a9520 button.colab-df-convert');\n",
              "        buttonEl.style.display =\n",
              "          google.colab.kernel.accessAllowed ? 'block' : 'none';\n",
              "\n",
              "        async function convertToInteractive(key) {\n",
              "          const element = document.querySelector('#df-df5bfc91-ea5e-4da3-adba-2a40ea2a9520');\n",
              "          const dataTable =\n",
              "            await google.colab.kernel.invokeFunction('convertToInteractive',\n",
              "                                                     [key], {});\n",
              "          if (!dataTable) return;\n",
              "\n",
              "          const docLinkHtml = 'Like what you see? Visit the ' +\n",
              "            '<a target=\"_blank\" href=https://colab.research.google.com/notebooks/data_table.ipynb>data table notebook</a>'\n",
              "            + ' to learn more about interactive tables.';\n",
              "          element.innerHTML = '';\n",
              "          dataTable['output_type'] = 'display_data';\n",
              "          await google.colab.output.renderOutput(dataTable, element);\n",
              "          const docLink = document.createElement('div');\n",
              "          docLink.innerHTML = docLinkHtml;\n",
              "          element.appendChild(docLink);\n",
              "        }\n",
              "      </script>\n",
              "    </div>\n",
              "  </div>\n"
            ]
          },
          "metadata": {},
          "execution_count": 32
        }
      ]
    },
    {
      "cell_type": "code",
      "source": [
        "df.loc[:, 'Date'] = pd.to_datetime(df['date'],format='%d-%m-%Y')"
      ],
      "metadata": {
        "id": "QY7oAwveAFJd"
      },
      "execution_count": null,
      "outputs": []
    },
    {
      "cell_type": "code",
      "source": [
        "df.head()"
      ],
      "metadata": {
        "colab": {
          "base_uri": "https://localhost:8080/",
          "height": 206
        },
        "id": "EbP8GkqY3r7A",
        "outputId": "bbc02a58-41f7-408a-8551-ea4924efe976"
      },
      "execution_count": null,
      "outputs": [
        {
          "output_type": "execute_result",
          "data": {
            "text/plain": [
              "         date   Price   Open    High     Low  Chg%       Date\n",
              "0  01-01-2014  230.80  230.0  232.50  229.35  0.01 2014-01-01\n",
              "1  02-01-2014  226.35  229.5  235.95  225.10 -0.02 2014-01-02\n",
              "2  03-01-2014  227.40  226.0  228.75  224.00  0.00 2014-01-03\n",
              "3  06-01-2014  227.80  228.0  230.30  225.55  0.00 2014-01-06\n",
              "4  07-01-2014  226.05  230.0  230.90  224.80 -0.01 2014-01-07"
            ],
            "text/html": [
              "\n",
              "\n",
              "  <div id=\"df-33301553-9f7a-4d09-a4a3-75e888246c83\">\n",
              "    <div class=\"colab-df-container\">\n",
              "      <div>\n",
              "<style scoped>\n",
              "    .dataframe tbody tr th:only-of-type {\n",
              "        vertical-align: middle;\n",
              "    }\n",
              "\n",
              "    .dataframe tbody tr th {\n",
              "        vertical-align: top;\n",
              "    }\n",
              "\n",
              "    .dataframe thead th {\n",
              "        text-align: right;\n",
              "    }\n",
              "</style>\n",
              "<table border=\"1\" class=\"dataframe\">\n",
              "  <thead>\n",
              "    <tr style=\"text-align: right;\">\n",
              "      <th></th>\n",
              "      <th>date</th>\n",
              "      <th>Price</th>\n",
              "      <th>Open</th>\n",
              "      <th>High</th>\n",
              "      <th>Low</th>\n",
              "      <th>Chg%</th>\n",
              "      <th>Date</th>\n",
              "    </tr>\n",
              "  </thead>\n",
              "  <tbody>\n",
              "    <tr>\n",
              "      <th>0</th>\n",
              "      <td>01-01-2014</td>\n",
              "      <td>230.80</td>\n",
              "      <td>230.0</td>\n",
              "      <td>232.50</td>\n",
              "      <td>229.35</td>\n",
              "      <td>0.01</td>\n",
              "      <td>2014-01-01</td>\n",
              "    </tr>\n",
              "    <tr>\n",
              "      <th>1</th>\n",
              "      <td>02-01-2014</td>\n",
              "      <td>226.35</td>\n",
              "      <td>229.5</td>\n",
              "      <td>235.95</td>\n",
              "      <td>225.10</td>\n",
              "      <td>-0.02</td>\n",
              "      <td>2014-01-02</td>\n",
              "    </tr>\n",
              "    <tr>\n",
              "      <th>2</th>\n",
              "      <td>03-01-2014</td>\n",
              "      <td>227.40</td>\n",
              "      <td>226.0</td>\n",
              "      <td>228.75</td>\n",
              "      <td>224.00</td>\n",
              "      <td>0.00</td>\n",
              "      <td>2014-01-03</td>\n",
              "    </tr>\n",
              "    <tr>\n",
              "      <th>3</th>\n",
              "      <td>06-01-2014</td>\n",
              "      <td>227.80</td>\n",
              "      <td>228.0</td>\n",
              "      <td>230.30</td>\n",
              "      <td>225.55</td>\n",
              "      <td>0.00</td>\n",
              "      <td>2014-01-06</td>\n",
              "    </tr>\n",
              "    <tr>\n",
              "      <th>4</th>\n",
              "      <td>07-01-2014</td>\n",
              "      <td>226.05</td>\n",
              "      <td>230.0</td>\n",
              "      <td>230.90</td>\n",
              "      <td>224.80</td>\n",
              "      <td>-0.01</td>\n",
              "      <td>2014-01-07</td>\n",
              "    </tr>\n",
              "  </tbody>\n",
              "</table>\n",
              "</div>\n",
              "      <button class=\"colab-df-convert\" onclick=\"convertToInteractive('df-33301553-9f7a-4d09-a4a3-75e888246c83')\"\n",
              "              title=\"Convert this dataframe to an interactive table.\"\n",
              "              style=\"display:none;\">\n",
              "\n",
              "  <svg xmlns=\"http://www.w3.org/2000/svg\" height=\"24px\"viewBox=\"0 0 24 24\"\n",
              "       width=\"24px\">\n",
              "    <path d=\"M0 0h24v24H0V0z\" fill=\"none\"/>\n",
              "    <path d=\"M18.56 5.44l.94 2.06.94-2.06 2.06-.94-2.06-.94-.94-2.06-.94 2.06-2.06.94zm-11 1L8.5 8.5l.94-2.06 2.06-.94-2.06-.94L8.5 2.5l-.94 2.06-2.06.94zm10 10l.94 2.06.94-2.06 2.06-.94-2.06-.94-.94-2.06-.94 2.06-2.06.94z\"/><path d=\"M17.41 7.96l-1.37-1.37c-.4-.4-.92-.59-1.43-.59-.52 0-1.04.2-1.43.59L10.3 9.45l-7.72 7.72c-.78.78-.78 2.05 0 2.83L4 21.41c.39.39.9.59 1.41.59.51 0 1.02-.2 1.41-.59l7.78-7.78 2.81-2.81c.8-.78.8-2.07 0-2.86zM5.41 20L4 18.59l7.72-7.72 1.47 1.35L5.41 20z\"/>\n",
              "  </svg>\n",
              "      </button>\n",
              "\n",
              "\n",
              "\n",
              "    <div id=\"df-be02ed60-64c5-4a49-a1a7-0b1374e6fe7d\">\n",
              "      <button class=\"colab-df-quickchart\" onclick=\"quickchart('df-be02ed60-64c5-4a49-a1a7-0b1374e6fe7d')\"\n",
              "              title=\"Suggest charts.\"\n",
              "              style=\"display:none;\">\n",
              "\n",
              "<svg xmlns=\"http://www.w3.org/2000/svg\" height=\"24px\"viewBox=\"0 0 24 24\"\n",
              "     width=\"24px\">\n",
              "    <g>\n",
              "        <path d=\"M19 3H5c-1.1 0-2 .9-2 2v14c0 1.1.9 2 2 2h14c1.1 0 2-.9 2-2V5c0-1.1-.9-2-2-2zM9 17H7v-7h2v7zm4 0h-2V7h2v10zm4 0h-2v-4h2v4z\"/>\n",
              "    </g>\n",
              "</svg>\n",
              "      </button>\n",
              "    </div>\n",
              "\n",
              "<style>\n",
              "  .colab-df-quickchart {\n",
              "    background-color: #E8F0FE;\n",
              "    border: none;\n",
              "    border-radius: 50%;\n",
              "    cursor: pointer;\n",
              "    display: none;\n",
              "    fill: #1967D2;\n",
              "    height: 32px;\n",
              "    padding: 0 0 0 0;\n",
              "    width: 32px;\n",
              "  }\n",
              "\n",
              "  .colab-df-quickchart:hover {\n",
              "    background-color: #E2EBFA;\n",
              "    box-shadow: 0px 1px 2px rgba(60, 64, 67, 0.3), 0px 1px 3px 1px rgba(60, 64, 67, 0.15);\n",
              "    fill: #174EA6;\n",
              "  }\n",
              "\n",
              "  [theme=dark] .colab-df-quickchart {\n",
              "    background-color: #3B4455;\n",
              "    fill: #D2E3FC;\n",
              "  }\n",
              "\n",
              "  [theme=dark] .colab-df-quickchart:hover {\n",
              "    background-color: #434B5C;\n",
              "    box-shadow: 0px 1px 3px 1px rgba(0, 0, 0, 0.15);\n",
              "    filter: drop-shadow(0px 1px 2px rgba(0, 0, 0, 0.3));\n",
              "    fill: #FFFFFF;\n",
              "  }\n",
              "</style>\n",
              "\n",
              "    <script>\n",
              "      async function quickchart(key) {\n",
              "        const containerElement = document.querySelector('#' + key);\n",
              "        const charts = await google.colab.kernel.invokeFunction(\n",
              "            'suggestCharts', [key], {});\n",
              "      }\n",
              "    </script>\n",
              "\n",
              "      <script>\n",
              "\n",
              "function displayQuickchartButton(domScope) {\n",
              "  let quickchartButtonEl =\n",
              "    domScope.querySelector('#df-be02ed60-64c5-4a49-a1a7-0b1374e6fe7d button.colab-df-quickchart');\n",
              "  quickchartButtonEl.style.display =\n",
              "    google.colab.kernel.accessAllowed ? 'block' : 'none';\n",
              "}\n",
              "\n",
              "        displayQuickchartButton(document);\n",
              "      </script>\n",
              "      <style>\n",
              "    .colab-df-container {\n",
              "      display:flex;\n",
              "      flex-wrap:wrap;\n",
              "      gap: 12px;\n",
              "    }\n",
              "\n",
              "    .colab-df-convert {\n",
              "      background-color: #E8F0FE;\n",
              "      border: none;\n",
              "      border-radius: 50%;\n",
              "      cursor: pointer;\n",
              "      display: none;\n",
              "      fill: #1967D2;\n",
              "      height: 32px;\n",
              "      padding: 0 0 0 0;\n",
              "      width: 32px;\n",
              "    }\n",
              "\n",
              "    .colab-df-convert:hover {\n",
              "      background-color: #E2EBFA;\n",
              "      box-shadow: 0px 1px 2px rgba(60, 64, 67, 0.3), 0px 1px 3px 1px rgba(60, 64, 67, 0.15);\n",
              "      fill: #174EA6;\n",
              "    }\n",
              "\n",
              "    [theme=dark] .colab-df-convert {\n",
              "      background-color: #3B4455;\n",
              "      fill: #D2E3FC;\n",
              "    }\n",
              "\n",
              "    [theme=dark] .colab-df-convert:hover {\n",
              "      background-color: #434B5C;\n",
              "      box-shadow: 0px 1px 3px 1px rgba(0, 0, 0, 0.15);\n",
              "      filter: drop-shadow(0px 1px 2px rgba(0, 0, 0, 0.3));\n",
              "      fill: #FFFFFF;\n",
              "    }\n",
              "  </style>\n",
              "\n",
              "      <script>\n",
              "        const buttonEl =\n",
              "          document.querySelector('#df-33301553-9f7a-4d09-a4a3-75e888246c83 button.colab-df-convert');\n",
              "        buttonEl.style.display =\n",
              "          google.colab.kernel.accessAllowed ? 'block' : 'none';\n",
              "\n",
              "        async function convertToInteractive(key) {\n",
              "          const element = document.querySelector('#df-33301553-9f7a-4d09-a4a3-75e888246c83');\n",
              "          const dataTable =\n",
              "            await google.colab.kernel.invokeFunction('convertToInteractive',\n",
              "                                                     [key], {});\n",
              "          if (!dataTable) return;\n",
              "\n",
              "          const docLinkHtml = 'Like what you see? Visit the ' +\n",
              "            '<a target=\"_blank\" href=https://colab.research.google.com/notebooks/data_table.ipynb>data table notebook</a>'\n",
              "            + ' to learn more about interactive tables.';\n",
              "          element.innerHTML = '';\n",
              "          dataTable['output_type'] = 'display_data';\n",
              "          await google.colab.output.renderOutput(dataTable, element);\n",
              "          const docLink = document.createElement('div');\n",
              "          docLink.innerHTML = docLinkHtml;\n",
              "          element.appendChild(docLink);\n",
              "        }\n",
              "      </script>\n",
              "    </div>\n",
              "  </div>\n"
            ]
          },
          "metadata": {},
          "execution_count": 35
        }
      ]
    },
    {
      "cell_type": "code",
      "source": [
        "df['month'] = df['Date'].dt.month"
      ],
      "metadata": {
        "id": "qBPXUed539Qw"
      },
      "execution_count": null,
      "outputs": []
    },
    {
      "cell_type": "code",
      "source": [
        "df.head(10)"
      ],
      "metadata": {
        "colab": {
          "base_uri": "https://localhost:8080/",
          "height": 363
        },
        "id": "O-xU-S7k4EoL",
        "outputId": "5c2309ff-beb7-46d9-c4d5-f3314d07394d"
      },
      "execution_count": null,
      "outputs": [
        {
          "output_type": "execute_result",
          "data": {
            "text/plain": [
              "         date   Price    Open    High     Low  Chg%       Date  month\n",
              "0  01-01-2014  230.80  230.00  232.50  229.35  0.01 2014-01-01      1\n",
              "1  02-01-2014  226.35  229.50  235.95  225.10 -0.02 2014-01-02      1\n",
              "2  03-01-2014  227.40  226.00  228.75  224.00  0.00 2014-01-03      1\n",
              "3  06-01-2014  227.80  228.00  230.30  225.55  0.00 2014-01-06      1\n",
              "4  07-01-2014  226.05  230.00  230.90  224.80 -0.01 2014-01-07      1\n",
              "5  08-01-2014  222.75  226.90  226.95  222.10 -0.01 2014-01-08      1\n",
              "6  09-01-2014  223.85  225.15  227.45  221.40  0.00 2014-01-09      1\n",
              "7  10-01-2014  220.25  224.00  227.25  219.00 -0.02 2014-01-10      1\n",
              "8  13-01-2014  221.10  221.00  223.40  214.10  0.00 2014-01-13      1\n",
              "9  14-01-2014  221.00  221.25  222.40  220.00  0.00 2014-01-14      1"
            ],
            "text/html": [
              "\n",
              "\n",
              "  <div id=\"df-5fd07321-e280-48b9-b3dc-b748f8454b09\">\n",
              "    <div class=\"colab-df-container\">\n",
              "      <div>\n",
              "<style scoped>\n",
              "    .dataframe tbody tr th:only-of-type {\n",
              "        vertical-align: middle;\n",
              "    }\n",
              "\n",
              "    .dataframe tbody tr th {\n",
              "        vertical-align: top;\n",
              "    }\n",
              "\n",
              "    .dataframe thead th {\n",
              "        text-align: right;\n",
              "    }\n",
              "</style>\n",
              "<table border=\"1\" class=\"dataframe\">\n",
              "  <thead>\n",
              "    <tr style=\"text-align: right;\">\n",
              "      <th></th>\n",
              "      <th>date</th>\n",
              "      <th>Price</th>\n",
              "      <th>Open</th>\n",
              "      <th>High</th>\n",
              "      <th>Low</th>\n",
              "      <th>Chg%</th>\n",
              "      <th>Date</th>\n",
              "      <th>month</th>\n",
              "    </tr>\n",
              "  </thead>\n",
              "  <tbody>\n",
              "    <tr>\n",
              "      <th>0</th>\n",
              "      <td>01-01-2014</td>\n",
              "      <td>230.80</td>\n",
              "      <td>230.00</td>\n",
              "      <td>232.50</td>\n",
              "      <td>229.35</td>\n",
              "      <td>0.01</td>\n",
              "      <td>2014-01-01</td>\n",
              "      <td>1</td>\n",
              "    </tr>\n",
              "    <tr>\n",
              "      <th>1</th>\n",
              "      <td>02-01-2014</td>\n",
              "      <td>226.35</td>\n",
              "      <td>229.50</td>\n",
              "      <td>235.95</td>\n",
              "      <td>225.10</td>\n",
              "      <td>-0.02</td>\n",
              "      <td>2014-01-02</td>\n",
              "      <td>1</td>\n",
              "    </tr>\n",
              "    <tr>\n",
              "      <th>2</th>\n",
              "      <td>03-01-2014</td>\n",
              "      <td>227.40</td>\n",
              "      <td>226.00</td>\n",
              "      <td>228.75</td>\n",
              "      <td>224.00</td>\n",
              "      <td>0.00</td>\n",
              "      <td>2014-01-03</td>\n",
              "      <td>1</td>\n",
              "    </tr>\n",
              "    <tr>\n",
              "      <th>3</th>\n",
              "      <td>06-01-2014</td>\n",
              "      <td>227.80</td>\n",
              "      <td>228.00</td>\n",
              "      <td>230.30</td>\n",
              "      <td>225.55</td>\n",
              "      <td>0.00</td>\n",
              "      <td>2014-01-06</td>\n",
              "      <td>1</td>\n",
              "    </tr>\n",
              "    <tr>\n",
              "      <th>4</th>\n",
              "      <td>07-01-2014</td>\n",
              "      <td>226.05</td>\n",
              "      <td>230.00</td>\n",
              "      <td>230.90</td>\n",
              "      <td>224.80</td>\n",
              "      <td>-0.01</td>\n",
              "      <td>2014-01-07</td>\n",
              "      <td>1</td>\n",
              "    </tr>\n",
              "    <tr>\n",
              "      <th>5</th>\n",
              "      <td>08-01-2014</td>\n",
              "      <td>222.75</td>\n",
              "      <td>226.90</td>\n",
              "      <td>226.95</td>\n",
              "      <td>222.10</td>\n",
              "      <td>-0.01</td>\n",
              "      <td>2014-01-08</td>\n",
              "      <td>1</td>\n",
              "    </tr>\n",
              "    <tr>\n",
              "      <th>6</th>\n",
              "      <td>09-01-2014</td>\n",
              "      <td>223.85</td>\n",
              "      <td>225.15</td>\n",
              "      <td>227.45</td>\n",
              "      <td>221.40</td>\n",
              "      <td>0.00</td>\n",
              "      <td>2014-01-09</td>\n",
              "      <td>1</td>\n",
              "    </tr>\n",
              "    <tr>\n",
              "      <th>7</th>\n",
              "      <td>10-01-2014</td>\n",
              "      <td>220.25</td>\n",
              "      <td>224.00</td>\n",
              "      <td>227.25</td>\n",
              "      <td>219.00</td>\n",
              "      <td>-0.02</td>\n",
              "      <td>2014-01-10</td>\n",
              "      <td>1</td>\n",
              "    </tr>\n",
              "    <tr>\n",
              "      <th>8</th>\n",
              "      <td>13-01-2014</td>\n",
              "      <td>221.10</td>\n",
              "      <td>221.00</td>\n",
              "      <td>223.40</td>\n",
              "      <td>214.10</td>\n",
              "      <td>0.00</td>\n",
              "      <td>2014-01-13</td>\n",
              "      <td>1</td>\n",
              "    </tr>\n",
              "    <tr>\n",
              "      <th>9</th>\n",
              "      <td>14-01-2014</td>\n",
              "      <td>221.00</td>\n",
              "      <td>221.25</td>\n",
              "      <td>222.40</td>\n",
              "      <td>220.00</td>\n",
              "      <td>0.00</td>\n",
              "      <td>2014-01-14</td>\n",
              "      <td>1</td>\n",
              "    </tr>\n",
              "  </tbody>\n",
              "</table>\n",
              "</div>\n",
              "      <button class=\"colab-df-convert\" onclick=\"convertToInteractive('df-5fd07321-e280-48b9-b3dc-b748f8454b09')\"\n",
              "              title=\"Convert this dataframe to an interactive table.\"\n",
              "              style=\"display:none;\">\n",
              "\n",
              "  <svg xmlns=\"http://www.w3.org/2000/svg\" height=\"24px\"viewBox=\"0 0 24 24\"\n",
              "       width=\"24px\">\n",
              "    <path d=\"M0 0h24v24H0V0z\" fill=\"none\"/>\n",
              "    <path d=\"M18.56 5.44l.94 2.06.94-2.06 2.06-.94-2.06-.94-.94-2.06-.94 2.06-2.06.94zm-11 1L8.5 8.5l.94-2.06 2.06-.94-2.06-.94L8.5 2.5l-.94 2.06-2.06.94zm10 10l.94 2.06.94-2.06 2.06-.94-2.06-.94-.94-2.06-.94 2.06-2.06.94z\"/><path d=\"M17.41 7.96l-1.37-1.37c-.4-.4-.92-.59-1.43-.59-.52 0-1.04.2-1.43.59L10.3 9.45l-7.72 7.72c-.78.78-.78 2.05 0 2.83L4 21.41c.39.39.9.59 1.41.59.51 0 1.02-.2 1.41-.59l7.78-7.78 2.81-2.81c.8-.78.8-2.07 0-2.86zM5.41 20L4 18.59l7.72-7.72 1.47 1.35L5.41 20z\"/>\n",
              "  </svg>\n",
              "      </button>\n",
              "\n",
              "\n",
              "\n",
              "    <div id=\"df-b23dd4c5-b3d7-4c82-853f-08b3bc202ea9\">\n",
              "      <button class=\"colab-df-quickchart\" onclick=\"quickchart('df-b23dd4c5-b3d7-4c82-853f-08b3bc202ea9')\"\n",
              "              title=\"Suggest charts.\"\n",
              "              style=\"display:none;\">\n",
              "\n",
              "<svg xmlns=\"http://www.w3.org/2000/svg\" height=\"24px\"viewBox=\"0 0 24 24\"\n",
              "     width=\"24px\">\n",
              "    <g>\n",
              "        <path d=\"M19 3H5c-1.1 0-2 .9-2 2v14c0 1.1.9 2 2 2h14c1.1 0 2-.9 2-2V5c0-1.1-.9-2-2-2zM9 17H7v-7h2v7zm4 0h-2V7h2v10zm4 0h-2v-4h2v4z\"/>\n",
              "    </g>\n",
              "</svg>\n",
              "      </button>\n",
              "    </div>\n",
              "\n",
              "<style>\n",
              "  .colab-df-quickchart {\n",
              "    background-color: #E8F0FE;\n",
              "    border: none;\n",
              "    border-radius: 50%;\n",
              "    cursor: pointer;\n",
              "    display: none;\n",
              "    fill: #1967D2;\n",
              "    height: 32px;\n",
              "    padding: 0 0 0 0;\n",
              "    width: 32px;\n",
              "  }\n",
              "\n",
              "  .colab-df-quickchart:hover {\n",
              "    background-color: #E2EBFA;\n",
              "    box-shadow: 0px 1px 2px rgba(60, 64, 67, 0.3), 0px 1px 3px 1px rgba(60, 64, 67, 0.15);\n",
              "    fill: #174EA6;\n",
              "  }\n",
              "\n",
              "  [theme=dark] .colab-df-quickchart {\n",
              "    background-color: #3B4455;\n",
              "    fill: #D2E3FC;\n",
              "  }\n",
              "\n",
              "  [theme=dark] .colab-df-quickchart:hover {\n",
              "    background-color: #434B5C;\n",
              "    box-shadow: 0px 1px 3px 1px rgba(0, 0, 0, 0.15);\n",
              "    filter: drop-shadow(0px 1px 2px rgba(0, 0, 0, 0.3));\n",
              "    fill: #FFFFFF;\n",
              "  }\n",
              "</style>\n",
              "\n",
              "    <script>\n",
              "      async function quickchart(key) {\n",
              "        const containerElement = document.querySelector('#' + key);\n",
              "        const charts = await google.colab.kernel.invokeFunction(\n",
              "            'suggestCharts', [key], {});\n",
              "      }\n",
              "    </script>\n",
              "\n",
              "      <script>\n",
              "\n",
              "function displayQuickchartButton(domScope) {\n",
              "  let quickchartButtonEl =\n",
              "    domScope.querySelector('#df-b23dd4c5-b3d7-4c82-853f-08b3bc202ea9 button.colab-df-quickchart');\n",
              "  quickchartButtonEl.style.display =\n",
              "    google.colab.kernel.accessAllowed ? 'block' : 'none';\n",
              "}\n",
              "\n",
              "        displayQuickchartButton(document);\n",
              "      </script>\n",
              "      <style>\n",
              "    .colab-df-container {\n",
              "      display:flex;\n",
              "      flex-wrap:wrap;\n",
              "      gap: 12px;\n",
              "    }\n",
              "\n",
              "    .colab-df-convert {\n",
              "      background-color: #E8F0FE;\n",
              "      border: none;\n",
              "      border-radius: 50%;\n",
              "      cursor: pointer;\n",
              "      display: none;\n",
              "      fill: #1967D2;\n",
              "      height: 32px;\n",
              "      padding: 0 0 0 0;\n",
              "      width: 32px;\n",
              "    }\n",
              "\n",
              "    .colab-df-convert:hover {\n",
              "      background-color: #E2EBFA;\n",
              "      box-shadow: 0px 1px 2px rgba(60, 64, 67, 0.3), 0px 1px 3px 1px rgba(60, 64, 67, 0.15);\n",
              "      fill: #174EA6;\n",
              "    }\n",
              "\n",
              "    [theme=dark] .colab-df-convert {\n",
              "      background-color: #3B4455;\n",
              "      fill: #D2E3FC;\n",
              "    }\n",
              "\n",
              "    [theme=dark] .colab-df-convert:hover {\n",
              "      background-color: #434B5C;\n",
              "      box-shadow: 0px 1px 3px 1px rgba(0, 0, 0, 0.15);\n",
              "      filter: drop-shadow(0px 1px 2px rgba(0, 0, 0, 0.3));\n",
              "      fill: #FFFFFF;\n",
              "    }\n",
              "  </style>\n",
              "\n",
              "      <script>\n",
              "        const buttonEl =\n",
              "          document.querySelector('#df-5fd07321-e280-48b9-b3dc-b748f8454b09 button.colab-df-convert');\n",
              "        buttonEl.style.display =\n",
              "          google.colab.kernel.accessAllowed ? 'block' : 'none';\n",
              "\n",
              "        async function convertToInteractive(key) {\n",
              "          const element = document.querySelector('#df-5fd07321-e280-48b9-b3dc-b748f8454b09');\n",
              "          const dataTable =\n",
              "            await google.colab.kernel.invokeFunction('convertToInteractive',\n",
              "                                                     [key], {});\n",
              "          if (!dataTable) return;\n",
              "\n",
              "          const docLinkHtml = 'Like what you see? Visit the ' +\n",
              "            '<a target=\"_blank\" href=https://colab.research.google.com/notebooks/data_table.ipynb>data table notebook</a>'\n",
              "            + ' to learn more about interactive tables.';\n",
              "          element.innerHTML = '';\n",
              "          dataTable['output_type'] = 'display_data';\n",
              "          await google.colab.output.renderOutput(dataTable, element);\n",
              "          const docLink = document.createElement('div');\n",
              "          docLink.innerHTML = docLinkHtml;\n",
              "          element.appendChild(docLink);\n",
              "        }\n",
              "      </script>\n",
              "    </div>\n",
              "  </div>\n"
            ]
          },
          "metadata": {},
          "execution_count": 37
        }
      ]
    },
    {
      "cell_type": "markdown",
      "source": [],
      "metadata": {
        "id": "M7Buu4Yi5jwx"
      }
    },
    {
      "cell_type": "code",
      "source": [],
      "metadata": {
        "colab": {
          "base_uri": "https://localhost:8080/",
          "height": 449
        },
        "id": "0blF0azJ4jCq",
        "outputId": "50939513-244f-4327-c76e-58c6f63060b0"
      },
      "execution_count": null,
      "outputs": [
        {
          "output_type": "error",
          "ename": "KeyError",
          "evalue": "ignored",
          "traceback": [
            "\u001b[0;31m---------------------------------------------------------------------------\u001b[0m",
            "\u001b[0;31mKeyError\u001b[0m                                  Traceback (most recent call last)",
            "\u001b[0;32m<ipython-input-41-f13755603374>\u001b[0m in \u001b[0;36m<cell line: 1>\u001b[0;34m()\u001b[0m\n\u001b[0;32m----> 1\u001b[0;31m \u001b[0mdf\u001b[0m\u001b[0;34m.\u001b[0m\u001b[0mdrop\u001b[0m\u001b[0;34m(\u001b[0m\u001b[0mdf\u001b[0m\u001b[0;34m.\u001b[0m\u001b[0mdate\u001b[0m\u001b[0;34m,\u001b[0m\u001b[0maxis\u001b[0m\u001b[0;34m=\u001b[0m\u001b[0;36m1\u001b[0m\u001b[0;34m)\u001b[0m\u001b[0;34m\u001b[0m\u001b[0;34m\u001b[0m\u001b[0m\n\u001b[0m",
            "\u001b[0;32m/usr/local/lib/python3.10/dist-packages/pandas/util/_decorators.py\u001b[0m in \u001b[0;36mwrapper\u001b[0;34m(*args, **kwargs)\u001b[0m\n\u001b[1;32m    329\u001b[0m                     \u001b[0mstacklevel\u001b[0m\u001b[0;34m=\u001b[0m\u001b[0mfind_stack_level\u001b[0m\u001b[0;34m(\u001b[0m\u001b[0;34m)\u001b[0m\u001b[0;34m,\u001b[0m\u001b[0;34m\u001b[0m\u001b[0;34m\u001b[0m\u001b[0m\n\u001b[1;32m    330\u001b[0m                 )\n\u001b[0;32m--> 331\u001b[0;31m             \u001b[0;32mreturn\u001b[0m \u001b[0mfunc\u001b[0m\u001b[0;34m(\u001b[0m\u001b[0;34m*\u001b[0m\u001b[0margs\u001b[0m\u001b[0;34m,\u001b[0m \u001b[0;34m**\u001b[0m\u001b[0mkwargs\u001b[0m\u001b[0;34m)\u001b[0m\u001b[0;34m\u001b[0m\u001b[0;34m\u001b[0m\u001b[0m\n\u001b[0m\u001b[1;32m    332\u001b[0m \u001b[0;34m\u001b[0m\u001b[0m\n\u001b[1;32m    333\u001b[0m         \u001b[0;31m# error: \"Callable[[VarArg(Any), KwArg(Any)], Any]\" has no\u001b[0m\u001b[0;34m\u001b[0m\u001b[0;34m\u001b[0m\u001b[0m\n",
            "\u001b[0;32m/usr/local/lib/python3.10/dist-packages/pandas/core/frame.py\u001b[0m in \u001b[0;36mdrop\u001b[0;34m(self, labels, axis, index, columns, level, inplace, errors)\u001b[0m\n\u001b[1;32m   5397\u001b[0m                 \u001b[0mweight\u001b[0m  \u001b[0;36m1.0\u001b[0m     \u001b[0;36m0.8\u001b[0m\u001b[0;34m\u001b[0m\u001b[0;34m\u001b[0m\u001b[0m\n\u001b[1;32m   5398\u001b[0m         \"\"\"\n\u001b[0;32m-> 5399\u001b[0;31m         return super().drop(\n\u001b[0m\u001b[1;32m   5400\u001b[0m             \u001b[0mlabels\u001b[0m\u001b[0;34m=\u001b[0m\u001b[0mlabels\u001b[0m\u001b[0;34m,\u001b[0m\u001b[0;34m\u001b[0m\u001b[0;34m\u001b[0m\u001b[0m\n\u001b[1;32m   5401\u001b[0m             \u001b[0maxis\u001b[0m\u001b[0;34m=\u001b[0m\u001b[0maxis\u001b[0m\u001b[0;34m,\u001b[0m\u001b[0;34m\u001b[0m\u001b[0;34m\u001b[0m\u001b[0m\n",
            "\u001b[0;32m/usr/local/lib/python3.10/dist-packages/pandas/util/_decorators.py\u001b[0m in \u001b[0;36mwrapper\u001b[0;34m(*args, **kwargs)\u001b[0m\n\u001b[1;32m    329\u001b[0m                     \u001b[0mstacklevel\u001b[0m\u001b[0;34m=\u001b[0m\u001b[0mfind_stack_level\u001b[0m\u001b[0;34m(\u001b[0m\u001b[0;34m)\u001b[0m\u001b[0;34m,\u001b[0m\u001b[0;34m\u001b[0m\u001b[0;34m\u001b[0m\u001b[0m\n\u001b[1;32m    330\u001b[0m                 )\n\u001b[0;32m--> 331\u001b[0;31m             \u001b[0;32mreturn\u001b[0m \u001b[0mfunc\u001b[0m\u001b[0;34m(\u001b[0m\u001b[0;34m*\u001b[0m\u001b[0margs\u001b[0m\u001b[0;34m,\u001b[0m \u001b[0;34m**\u001b[0m\u001b[0mkwargs\u001b[0m\u001b[0;34m)\u001b[0m\u001b[0;34m\u001b[0m\u001b[0;34m\u001b[0m\u001b[0m\n\u001b[0m\u001b[1;32m    332\u001b[0m \u001b[0;34m\u001b[0m\u001b[0m\n\u001b[1;32m    333\u001b[0m         \u001b[0;31m# error: \"Callable[[VarArg(Any), KwArg(Any)], Any]\" has no\u001b[0m\u001b[0;34m\u001b[0m\u001b[0;34m\u001b[0m\u001b[0m\n",
            "\u001b[0;32m/usr/local/lib/python3.10/dist-packages/pandas/core/generic.py\u001b[0m in \u001b[0;36mdrop\u001b[0;34m(self, labels, axis, index, columns, level, inplace, errors)\u001b[0m\n\u001b[1;32m   4503\u001b[0m         \u001b[0;32mfor\u001b[0m \u001b[0maxis\u001b[0m\u001b[0;34m,\u001b[0m \u001b[0mlabels\u001b[0m \u001b[0;32min\u001b[0m \u001b[0maxes\u001b[0m\u001b[0;34m.\u001b[0m\u001b[0mitems\u001b[0m\u001b[0;34m(\u001b[0m\u001b[0;34m)\u001b[0m\u001b[0;34m:\u001b[0m\u001b[0;34m\u001b[0m\u001b[0;34m\u001b[0m\u001b[0m\n\u001b[1;32m   4504\u001b[0m             \u001b[0;32mif\u001b[0m \u001b[0mlabels\u001b[0m \u001b[0;32mis\u001b[0m \u001b[0;32mnot\u001b[0m \u001b[0;32mNone\u001b[0m\u001b[0;34m:\u001b[0m\u001b[0;34m\u001b[0m\u001b[0;34m\u001b[0m\u001b[0m\n\u001b[0;32m-> 4505\u001b[0;31m                 \u001b[0mobj\u001b[0m \u001b[0;34m=\u001b[0m \u001b[0mobj\u001b[0m\u001b[0;34m.\u001b[0m\u001b[0m_drop_axis\u001b[0m\u001b[0;34m(\u001b[0m\u001b[0mlabels\u001b[0m\u001b[0;34m,\u001b[0m \u001b[0maxis\u001b[0m\u001b[0;34m,\u001b[0m \u001b[0mlevel\u001b[0m\u001b[0;34m=\u001b[0m\u001b[0mlevel\u001b[0m\u001b[0;34m,\u001b[0m \u001b[0merrors\u001b[0m\u001b[0;34m=\u001b[0m\u001b[0merrors\u001b[0m\u001b[0;34m)\u001b[0m\u001b[0;34m\u001b[0m\u001b[0;34m\u001b[0m\u001b[0m\n\u001b[0m\u001b[1;32m   4506\u001b[0m \u001b[0;34m\u001b[0m\u001b[0m\n\u001b[1;32m   4507\u001b[0m         \u001b[0;32mif\u001b[0m \u001b[0minplace\u001b[0m\u001b[0;34m:\u001b[0m\u001b[0;34m\u001b[0m\u001b[0;34m\u001b[0m\u001b[0m\n",
            "\u001b[0;32m/usr/local/lib/python3.10/dist-packages/pandas/core/generic.py\u001b[0m in \u001b[0;36m_drop_axis\u001b[0;34m(self, labels, axis, level, errors, only_slice)\u001b[0m\n\u001b[1;32m   4544\u001b[0m                 \u001b[0mnew_axis\u001b[0m \u001b[0;34m=\u001b[0m \u001b[0maxis\u001b[0m\u001b[0;34m.\u001b[0m\u001b[0mdrop\u001b[0m\u001b[0;34m(\u001b[0m\u001b[0mlabels\u001b[0m\u001b[0;34m,\u001b[0m \u001b[0mlevel\u001b[0m\u001b[0;34m=\u001b[0m\u001b[0mlevel\u001b[0m\u001b[0;34m,\u001b[0m \u001b[0merrors\u001b[0m\u001b[0;34m=\u001b[0m\u001b[0merrors\u001b[0m\u001b[0;34m)\u001b[0m\u001b[0;34m\u001b[0m\u001b[0;34m\u001b[0m\u001b[0m\n\u001b[1;32m   4545\u001b[0m             \u001b[0;32melse\u001b[0m\u001b[0;34m:\u001b[0m\u001b[0;34m\u001b[0m\u001b[0;34m\u001b[0m\u001b[0m\n\u001b[0;32m-> 4546\u001b[0;31m                 \u001b[0mnew_axis\u001b[0m \u001b[0;34m=\u001b[0m \u001b[0maxis\u001b[0m\u001b[0;34m.\u001b[0m\u001b[0mdrop\u001b[0m\u001b[0;34m(\u001b[0m\u001b[0mlabels\u001b[0m\u001b[0;34m,\u001b[0m \u001b[0merrors\u001b[0m\u001b[0;34m=\u001b[0m\u001b[0merrors\u001b[0m\u001b[0;34m)\u001b[0m\u001b[0;34m\u001b[0m\u001b[0;34m\u001b[0m\u001b[0m\n\u001b[0m\u001b[1;32m   4547\u001b[0m             \u001b[0mindexer\u001b[0m \u001b[0;34m=\u001b[0m \u001b[0maxis\u001b[0m\u001b[0;34m.\u001b[0m\u001b[0mget_indexer\u001b[0m\u001b[0;34m(\u001b[0m\u001b[0mnew_axis\u001b[0m\u001b[0;34m)\u001b[0m\u001b[0;34m\u001b[0m\u001b[0;34m\u001b[0m\u001b[0m\n\u001b[1;32m   4548\u001b[0m \u001b[0;34m\u001b[0m\u001b[0m\n",
            "\u001b[0;32m/usr/local/lib/python3.10/dist-packages/pandas/core/indexes/base.py\u001b[0m in \u001b[0;36mdrop\u001b[0;34m(self, labels, errors)\u001b[0m\n\u001b[1;32m   6932\u001b[0m         \u001b[0;32mif\u001b[0m \u001b[0mmask\u001b[0m\u001b[0;34m.\u001b[0m\u001b[0many\u001b[0m\u001b[0;34m(\u001b[0m\u001b[0;34m)\u001b[0m\u001b[0;34m:\u001b[0m\u001b[0;34m\u001b[0m\u001b[0;34m\u001b[0m\u001b[0m\n\u001b[1;32m   6933\u001b[0m             \u001b[0;32mif\u001b[0m \u001b[0merrors\u001b[0m \u001b[0;34m!=\u001b[0m \u001b[0;34m\"ignore\"\u001b[0m\u001b[0;34m:\u001b[0m\u001b[0;34m\u001b[0m\u001b[0;34m\u001b[0m\u001b[0m\n\u001b[0;32m-> 6934\u001b[0;31m                 \u001b[0;32mraise\u001b[0m \u001b[0mKeyError\u001b[0m\u001b[0;34m(\u001b[0m\u001b[0;34mf\"{list(labels[mask])} not found in axis\"\u001b[0m\u001b[0;34m)\u001b[0m\u001b[0;34m\u001b[0m\u001b[0;34m\u001b[0m\u001b[0m\n\u001b[0m\u001b[1;32m   6935\u001b[0m             \u001b[0mindexer\u001b[0m \u001b[0;34m=\u001b[0m \u001b[0mindexer\u001b[0m\u001b[0;34m[\u001b[0m\u001b[0;34m~\u001b[0m\u001b[0mmask\u001b[0m\u001b[0;34m]\u001b[0m\u001b[0;34m\u001b[0m\u001b[0;34m\u001b[0m\u001b[0m\n\u001b[1;32m   6936\u001b[0m         \u001b[0;32mreturn\u001b[0m \u001b[0mself\u001b[0m\u001b[0;34m.\u001b[0m\u001b[0mdelete\u001b[0m\u001b[0;34m(\u001b[0m\u001b[0mindexer\u001b[0m\u001b[0;34m)\u001b[0m\u001b[0;34m\u001b[0m\u001b[0;34m\u001b[0m\u001b[0m\n",
            "\u001b[0;31mKeyError\u001b[0m: \"['01-01-2014', '02-01-2014', '03-01-2014', '06-01-2014', '07-01-2014', '08-01-2014', '09-01-2014', '10-01-2014', '13-01-2014', '14-01-2014', '15-01-2014', '16-01-2014', '17-01-2014', '20-01-2014', '21-01-2014', '22-01-2014', '23-01-2014', '24-01-2014', '27-01-2014', '28-01-2014', '29-01-2014', '30-01-2014', '31-01-2014', '03-02-2014', '04-02-2014', '05-02-2014', '06-02-2014', '07-02-2014', '10-02-2014', '11-02-2014', '12-02-2014', '13-02-2014', '14-02-2014', '17-02-2014', '18-02-2014', '19-02-2014', '20-02-2014', '21-02-2014', '24-02-2014', '25-02-2014', '26-02-2014', '28-02-2014', '03-03-2014', '04-03-2014', '05-03-2014', '06-03-2014', '07-03-2014', '10-03-2014', '11-03-2014', '12-03-2014', '13-03-2014', '14-03-2014', '18-03-2014', '19-03-2014', '20-03-2014', '21-03-2014', '24-03-2014', '25-03-2014', '26-03-2014', '27-03-2014', '28-03-2014', '31-03-2014', '01-04-2014', '02-04-2014', '03-04-2014', '04-04-2014', '07-04-2014', '09-04-2014', '10-04-2014', '11-04-2014', '15-04-2014', '16-04-2014', '17-04-2014', '21-04-2014', '22-04-2014', '23-04-2014', '24-04-2014', '25-04-2014', '28-04-2014', '29-04-2014', '30-04-2014', '02-05-2014', '05-05-2014', '06-05-2014', '07-05-2014', '08-05-2014', '09-05-2014', '12-05-2014', '13-05-2014', '14-05-2014', '15-05-2014', '16-05-2014', '19-05-2014', '20-05-2014', '21-05-2014', '22-05-2014', '23-05-2014', '26-05-2014', '27-05-2014', '28-05-2014', '29-05-2014', '30-05-2014', '02-06-2014', '03-06-2014', '04-06-2014', '05-..."
          ]
        }
      ]
    },
    {
      "cell_type": "code",
      "source": [
        "len(df.Price)"
      ],
      "metadata": {
        "colab": {
          "base_uri": "https://localhost:8080/"
        },
        "id": "7ZBHzfpJ5kRQ",
        "outputId": "59d27440-51d3-4284-8da4-0fdc00ef4214"
      },
      "execution_count": null,
      "outputs": [
        {
          "output_type": "execute_result",
          "data": {
            "text/plain": [
              "2032"
            ]
          },
          "metadata": {},
          "execution_count": 42
        }
      ]
    },
    {
      "cell_type": "code",
      "source": [
        "df.drop([1997,1998,1999],axis=0,inplace=True)"
      ],
      "metadata": {
        "id": "HChIEU5H7q5_"
      },
      "execution_count": null,
      "outputs": []
    },
    {
      "cell_type": "code",
      "source": [
        "df[\"Price\"]=df[\"Price\"].astype(float)"
      ],
      "metadata": {
        "id": "tP6qhI6nBhFq"
      },
      "execution_count": null,
      "outputs": []
    },
    {
      "cell_type": "code",
      "source": [
        "df.drop([2031,2030,2029,2028,2027,2026,2025,2024,2023,2022,2021,2019,2018,2017,2016,2015,2014,2013,2012,2011,2010,2009,2008,2007,2006,2005,2004,2003,2002,2001,2000],axis=0,inplace=True)"
      ],
      "metadata": {
        "id": "FuzzVnzF5AE6"
      },
      "execution_count": null,
      "outputs": []
    },
    {
      "cell_type": "code",
      "source": [
        "df.drop([2020],axis=0,inplace=True)"
      ],
      "metadata": {
        "id": "Vygi_en05T5j"
      },
      "execution_count": null,
      "outputs": []
    },
    {
      "cell_type": "code",
      "source": [
        "df.head"
      ],
      "metadata": {
        "colab": {
          "base_uri": "https://localhost:8080/"
        },
        "id": "aJ453L40CY9Z",
        "outputId": "b334123c-b26b-4fd8-cd32-1a12b80b8e74"
      },
      "execution_count": null,
      "outputs": [
        {
          "output_type": "execute_result",
          "data": {
            "text/plain": [
              "<bound method NDFrame.head of             date    Price     Open     High      Low  Chg%       Date  month\n",
              "0     01-01-2014   230.80   230.00   232.50   229.35  0.01 2014-01-01      1\n",
              "1     02-01-2014   226.35   229.50   235.95   225.10 -0.02 2014-01-02      1\n",
              "2     03-01-2014   227.40   226.00   228.75   224.00  0.00 2014-01-03      1\n",
              "3     06-01-2014   227.80   228.00   230.30   225.55  0.00 2014-01-06      1\n",
              "4     07-01-2014   226.05   230.00   230.90   224.80 -0.01 2014-01-07      1\n",
              "...          ...      ...      ...      ...      ...   ...        ...    ...\n",
              "1992  01-02-2022  2523.90  2631.00  2634.00  2518.00 -0.04 2022-02-01      2\n",
              "1993  02-02-2022  2535.90  2536.50  2545.55  2483.00  0.00 2022-02-02      2\n",
              "1994  03-02-2022  2538.80  2550.00  2559.00  2525.30  0.00 2022-02-03      2\n",
              "1995  04-02-2022  2523.15  2556.30  2565.75  2510.00 -0.01 2022-02-04      2\n",
              "1996  07-02-2022  2536.15  2525.25  2545.40  2519.95  0.01 2022-02-07      2\n",
              "\n",
              "[1997 rows x 8 columns]>"
            ]
          },
          "metadata": {},
          "execution_count": 50
        }
      ]
    },
    {
      "cell_type": "code",
      "source": [
        "\n",
        "ax = df.plot(x='Date', y='Price', style='b-', grid=True)\n",
        "ax.set_xlabel(\"Date\")\n",
        "ax.set_ylabel(\"INR\")"
      ],
      "metadata": {
        "colab": {
          "base_uri": "https://localhost:8080/",
          "height": 439
        },
        "id": "U5AdOnsF4RQH",
        "outputId": "2b1192b3-fb25-4729-9172-9cf1cb0e0dac"
      },
      "execution_count": null,
      "outputs": [
        {
          "output_type": "execute_result",
          "data": {
            "text/plain": [
              "Text(0, 0.5, 'INR')"
            ]
          },
          "metadata": {},
          "execution_count": 51
        },
        {
          "output_type": "display_data",
          "data": {
            "text/plain": [
              "<Figure size 640x480 with 1 Axes>"
            ],
            "image/png": "[encoded data removed]"
          },
          "metadata": {}
        }
      ]
    },
    {
      "cell_type": "code",
      "source": [
        "from sklearn.model_selection import train_test_split"
      ],
      "metadata": {
        "id": "Sm3M-lHzGNyB"
      },
      "execution_count": null,
      "outputs": []
    },
    {
      "cell_type": "code",
      "source": [
        "cv_size = 0.2\n",
        "test_size  = 0.1"
      ],
      "metadata": {
        "id": "I5TRsoPhIH_U"
      },
      "execution_count": null,
      "outputs": []
    },
    {
      "cell_type": "code",
      "source": [
        "num_cv = int(cv_size*len(df))\n",
        "num_test = int(test_size*len(df))\n",
        "num_train = len(df) - num_cv - num_test\n",
        "print(\"num_train = \" + str(num_train))\n",
        "print(\"num_cv = \" + str(num_cv))\n",
        "print(\"num_test = \" + str(num_test))\n",
        "\n",
        "# Split into train, cv, and test\n",
        "train = df[:num_train].copy()\n",
        "cv = df[num_train:num_train+num_cv].copy()\n",
        "train_cv = df[:num_train+num_cv].copy()\n",
        "test = df[num_train+num_cv:].copy()\n",
        "print(\"train.shape = \" + str(train.shape))\n",
        "print(\"cv.shape = \" + str(cv.shape))\n",
        "print(\"train_cv.shape = \" + str(train_cv.shape))\n",
        "print(\"test.shape = \" + str(test.shape))"
      ],
      "metadata": {
        "id": "n6CAbNX-HShg",
        "colab": {
          "base_uri": "https://localhost:8080/"
        },
        "outputId": "3b389b73-3416-4114-d8a5-a04e3307a3fe"
      },
      "execution_count": null,
      "outputs": [
        {
          "output_type": "stream",
          "name": "stdout",
          "text": [
            "num_train = 1399\n",
            "num_cv = 399\n",
            "num_test = 199\n",
            "train.shape = (1399, 8)\n",
            "cv.shape = (399, 8)\n",
            "train_cv.shape = (1798, 8)\n",
            "test.shape = (199, 8)\n"
          ]
        }
      ]
    },
    {
      "cell_type": "code",
      "source": [
        "ax = train.plot(x='Date', y='Price', style='b-', grid=True)\n",
        "ax = cv.plot(x='Date', y='Price', style='y-', grid=True, ax=ax)\n",
        "ax = test.plot(x='Date', y='Price', style='g-', grid=True, ax=ax)\n",
        "ax.legend(['train', 'cv', 'test'])\n",
        "ax.set_xlabel(\"Date\")\n",
        "ax.set_ylabel(\"INR\")"
      ],
      "metadata": {
        "colab": {
          "base_uri": "https://localhost:8080/",
          "height": 439
        },
        "id": "RVOf3Li3tplj",
        "outputId": "63d9b88a-8694-4476-f25f-06c699766dae"
      },
      "execution_count": null,
      "outputs": [
        {
          "output_type": "execute_result",
          "data": {
            "text/plain": [
              "Text(0, 0.5, 'INR')"
            ]
          },
          "metadata": {},
          "execution_count": 55
        },
        {
          "output_type": "display_data",
          "data": {
            "text/plain": [
              "<Figure size 640x480 with 1 Axes>"
            ],
            "image/png": "[encoded data removed]"
          },
          "metadata": {}
        }
      ]
    },
    {
      "cell_type": "code",
      "source": [
        "def get_preds_lin_reg(df, target_col, N, pred_min, offset):\n",
        "\n",
        "    regr = LinearRegression(fit_intercept=True)\n",
        "\n",
        "    pred_list = []\n",
        "\n",
        "    for i in range(offset, len(df['Price'])):\n",
        "        X_train = np.array(range(len(df['Price'][i-N:i]))) # e.g. [0 1 2 3 4]\n",
        "        y_train = np.array(df['Price'][i-N:i]) # e.g. [2944 3088 3226 3335 3436]\n",
        "        X_train = X_train.reshape(-1, 1)     # e.g X_train =\n",
        "                                             # [[0]\n",
        "                                             #  [1]\n",
        "                                             #  [2]\n",
        "                                             #  [3]\n",
        "                                             #  [4]]\n",
        "\n",
        "        y_train = y_train.reshape(-1, 1)\n",
        "\n",
        "        regr.fit(X_train, y_train)\n",
        "        pred = regr.predict(np.array(N).reshape(1,-1))\n",
        "\n",
        "        pred_list.append(pred[0][0])\n",
        "\n",
        "\n",
        "    pred_list = np.array(pred_list)\n",
        "    pred_list[pred_list < pred_min] = pred_min\n",
        "\n",
        "    return pred_list\n",
        "\n"
      ],
      "metadata": {
        "id": "o2ySH5YUtpqe"
      },
      "execution_count": null,
      "outputs": []
    },
    {
      "cell_type": "code",
      "source": [
        "def get_mape(y_true, y_pred):\n",
        "\n",
        "    y_true, y_pred = np.array(y_true), np.array(y_pred)\n",
        "    return np.mean(np.abs((y_true - y_pred) / y_true)) * 100"
      ],
      "metadata": {
        "id": "d01Dv3QZ5fys"
      },
      "execution_count": null,
      "outputs": []
    },
    {
      "cell_type": "code",
      "source": [
        "N_max = 30\n",
        "RMSE = []\n",
        "R2 = []\n",
        "mape = []\n",
        "for N in range(1, N_max+1): # N is no. of samples to use to predict the next value\n",
        "    est_list = get_preds_lin_reg(train_cv, 'Price', N, 0, num_train)\n",
        "\n",
        "    cv.loc[:, 'est' + '_N' + str(N)] = est_list\n",
        "    RMSE.append(math.sqrt(mean_squared_error(est_list, cv['Price'])))\n",
        "    R2.append(r2_score(cv['Price'], est_list))\n",
        "    mape.append(get_mape(cv['Price'], est_list))\n",
        "print('RMSE = ' + str(RMSE))\n",
        "print('R2 = ' + str(R2))\n",
        "print('MAPE = ' + str(mape))\n",
        "cv.head()"
      ],
      "metadata": {
        "colab": {
          "base_uri": "https://localhost:8080/",
          "height": 525
        },
        "id": "8Tl48sHUKYY1",
        "outputId": "de720623-22b1-4a1d-ee98-7f4680e4d915"
      },
      "execution_count": null,
      "outputs": [
        {
          "output_type": "stream",
          "name": "stdout",
          "text": [
            "RMSE = [27.15236838698526, 39.618714249669864, 32.437250070667744, 32.344812519627084, 32.789738001897526, 33.636294411756865, 34.726819796754434, 35.29217060148627, 36.003055250251215, 37.01375951642045, 38.03420815556053, 39.27318583829088, 40.54001205959965, 41.721458747805784, 43.10614790314197, 44.43089195568855, 45.90363615678057, 47.26074580047247, 48.533795380454876, 49.663558164456546, 50.70330009116683, 51.7556906360186, 52.84421906363209, 53.87365966668755, 54.91873002059669, 55.9667970673301, 57.01197837575616, 58.061571711491155, 59.10789545235604, 60.152238235471756]\n",
            "R2 = [0.9841661387499928, 0.9662889596901467, 0.977402548739135, 0.97753115869907, 0.9769087579583693, 0.9757010397448623, 0.9740999008106854, 0.9732497318215928, 0.9721612254250269, 0.9705762651452355, 0.9689315091156994, 0.9668744066834214, 0.9647028900686445, 0.962615603877521, 0.9600929311900147, 0.9576023813601364, 0.9547451033287557, 0.9520296881312617, 0.9494105555684056, 0.9470279154594916, 0.9447866810211192, 0.9424708950881872, 0.9400255368815748, 0.9376660917731533, 0.9352242616621064, 0.9327283148191816, 0.9301922526362816, 0.9275982645535612, 0.9249652580315648, 0.9222903444108135]\n",
            "MAPE = [1.5862236346664775, 2.3842907975224503, 1.9858267198453967, 2.006124508236319, 2.0521628563916585, 2.1432071107922726, 2.2319999766511813, 2.2966086551968967, 2.3731860089608148, 2.4542352866800683, 2.499708553096599, 2.568557103843893, 2.6220027455478823, 2.6666476233223224, 2.7604792264195375, 2.86678240069627, 2.982847303015928, 3.0956844407055666, 3.1950994943005524, 3.2801261388049876, 3.3606693777549093, 3.427081723435621, 3.474519552652778, 3.5128070656540498, 3.5673588330075257, 3.6259442725253055, 3.6829040943966724, 3.7450944115215288, 3.8086832998468454, 3.8652525100784803]\n"
          ]
        },
        {
          "output_type": "execute_result",
          "data": {
            "text/plain": [
              "            date    Price     Open     High      Low  Chg%       Date  month  \\\n",
              "1399  12-09-2019  1300.60  1278.00  1305.00  1274.05  0.02 2019-09-12      9   \n",
              "1400  13-09-2019  1329.45  1300.45  1336.80  1294.50  0.02 2019-09-13      9   \n",
              "1401  16-09-2019  1348.65  1331.95  1366.35  1327.05  0.01 2019-09-16      9   \n",
              "1402  17-09-2019  1374.55  1364.00  1379.00  1350.65  0.02 2019-09-17      9   \n",
              "1403  18-09-2019  1335.00  1378.90  1389.95  1331.15 -0.03 2019-09-18      9   \n",
              "\n",
              "       est_N1   est_N2  ...      est_N21      est_N22      est_N23  \\\n",
              "1399  1277.05  1279.55  ...  1283.079286  1289.915584  1297.218182   \n",
              "1400  1300.60  1324.15  ...  1281.644286  1288.961688  1295.362253   \n",
              "1401  1329.45  1358.30  ...  1283.939286  1292.286364  1298.907708   \n",
              "1402  1348.65  1367.85  ...  1286.659286  1297.133117  1304.605731   \n",
              "1403  1374.55  1400.45  ...  1303.606429  1303.468831  1312.792490   \n",
              "\n",
              "          est_N24    est_N25      est_N26      est_N27      est_N28  \\\n",
              "1399  1305.808696  1311.1250  1315.970308  1320.918661  1325.938095   \n",
              "1400  1302.283152  1310.5075  1315.651385  1320.377208  1325.230159   \n",
              "1401  1304.748188  1311.1650  1318.905846  1323.751282  1328.235317   \n",
              "1402  1310.542754  1315.8180  1321.717846  1328.958405  1333.473413   \n",
              "1403  1319.392754  1324.6260  1329.304462  1334.651140  1341.353571   \n",
              "\n",
              "          est_N29      est_N30  \n",
              "1399  1330.384236  1332.077126  \n",
              "1400  1330.176601  1334.591034  \n",
              "1401  1332.876232  1337.638391  \n",
              "1402  1337.680172  1342.072529  \n",
              "1403  1345.488300  1349.365977  \n",
              "\n",
              "[5 rows x 38 columns]"
            ],
            "text/html": [
              "\n",
              "\n",
              "  <div id=\"df-cac5a055-d7d7-4b84-9323-ad1d1e4fc85e\">\n",
              "    <div class=\"colab-df-container\">\n",
              "      <div>\n",
              "<style scoped>\n",
              "    .dataframe tbody tr th:only-of-type {\n",
              "        vertical-align: middle;\n",
              "    }\n",
              "\n",
              "    .dataframe tbody tr th {\n",
              "        vertical-align: top;\n",
              "    }\n",
              "\n",
              "    .dataframe thead th {\n",
              "        text-align: right;\n",
              "    }\n",
              "</style>\n",
              "<table border=\"1\" class=\"dataframe\">\n",
              "  <thead>\n",
              "    <tr style=\"text-align: right;\">\n",
              "      <th></th>\n",
              "      <th>date</th>\n",
              "      <th>Price</th>\n",
              "      <th>Open</th>\n",
              "      <th>High</th>\n",
              "      <th>Low</th>\n",
              "      <th>Chg%</th>\n",
              "      <th>Date</th>\n",
              "      <th>month</th>\n",
              "      <th>est_N1</th>\n",
              "      <th>est_N2</th>\n",
              "      <th>...</th>\n",
              "      <th>est_N21</th>\n",
              "      <th>est_N22</th>\n",
              "      <th>est_N23</th>\n",
              "      <th>est_N24</th>\n",
              "      <th>est_N25</th>\n",
              "      <th>est_N26</th>\n",
              "      <th>est_N27</th>\n",
              "      <th>est_N28</th>\n",
              "      <th>est_N29</th>\n",
              "      <th>est_N30</th>\n",
              "    </tr>\n",
              "  </thead>\n",
              "  <tbody>\n",
              "    <tr>\n",
              "      <th>1399</th>\n",
              "      <td>12-09-2019</td>\n",
              "      <td>1300.60</td>\n",
              "      <td>1278.00</td>\n",
              "      <td>1305.00</td>\n",
              "      <td>1274.05</td>\n",
              "      <td>0.02</td>\n",
              "      <td>2019-09-12</td>\n",
              "      <td>9</td>\n",
              "      <td>1277.05</td>\n",
              "      <td>1279.55</td>\n",
              "      <td>...</td>\n",
              "      <td>1283.079286</td>\n",
              "      <td>1289.915584</td>\n",
              "      <td>1297.218182</td>\n",
              "      <td>1305.808696</td>\n",
              "      <td>1311.1250</td>\n",
              "      <td>1315.970308</td>\n",
              "      <td>1320.918661</td>\n",
              "      <td>1325.938095</td>\n",
              "      <td>1330.384236</td>\n",
              "      <td>1332.077126</td>\n",
              "    </tr>\n",
              "    <tr>\n",
              "      <th>1400</th>\n",
              "      <td>13-09-2019</td>\n",
              "      <td>1329.45</td>\n",
              "      <td>1300.45</td>\n",
              "      <td>1336.80</td>\n",
              "      <td>1294.50</td>\n",
              "      <td>0.02</td>\n",
              "      <td>2019-09-13</td>\n",
              "      <td>9</td>\n",
              "      <td>1300.60</td>\n",
              "      <td>1324.15</td>\n",
              "      <td>...</td>\n",
              "      <td>1281.644286</td>\n",
              "      <td>1288.961688</td>\n",
              "      <td>1295.362253</td>\n",
              "      <td>1302.283152</td>\n",
              "      <td>1310.5075</td>\n",
              "      <td>1315.651385</td>\n",
              "      <td>1320.377208</td>\n",
              "      <td>1325.230159</td>\n",
              "      <td>1330.176601</td>\n",
              "      <td>1334.591034</td>\n",
              "    </tr>\n",
              "    <tr>\n",
              "      <th>1401</th>\n",
              "      <td>16-09-2019</td>\n",
              "      <td>1348.65</td>\n",
              "      <td>1331.95</td>\n",
              "      <td>1366.35</td>\n",
              "      <td>1327.05</td>\n",
              "      <td>0.01</td>\n",
              "      <td>2019-09-16</td>\n",
              "      <td>9</td>\n",
              "      <td>1329.45</td>\n",
              "      <td>1358.30</td>\n",
              "      <td>...</td>\n",
              "      <td>1283.939286</td>\n",
              "      <td>1292.286364</td>\n",
              "      <td>1298.907708</td>\n",
              "      <td>1304.748188</td>\n",
              "      <td>1311.1650</td>\n",
              "      <td>1318.905846</td>\n",
              "      <td>1323.751282</td>\n",
              "      <td>1328.235317</td>\n",
              "      <td>1332.876232</td>\n",
              "      <td>1337.638391</td>\n",
              "    </tr>\n",
              "    <tr>\n",
              "      <th>1402</th>\n",
              "      <td>17-09-2019</td>\n",
              "      <td>1374.55</td>\n",
              "      <td>1364.00</td>\n",
              "      <td>1379.00</td>\n",
              "      <td>1350.65</td>\n",
              "      <td>0.02</td>\n",
              "      <td>2019-09-17</td>\n",
              "      <td>9</td>\n",
              "      <td>1348.65</td>\n",
              "      <td>1367.85</td>\n",
              "      <td>...</td>\n",
              "      <td>1286.659286</td>\n",
              "      <td>1297.133117</td>\n",
              "      <td>1304.605731</td>\n",
              "      <td>1310.542754</td>\n",
              "      <td>1315.8180</td>\n",
              "      <td>1321.717846</td>\n",
              "      <td>1328.958405</td>\n",
              "      <td>1333.473413</td>\n",
              "      <td>1337.680172</td>\n",
              "      <td>1342.072529</td>\n",
              "    </tr>\n",
              "    <tr>\n",
              "      <th>1403</th>\n",
              "      <td>18-09-2019</td>\n",
              "      <td>1335.00</td>\n",
              "      <td>1378.90</td>\n",
              "      <td>1389.95</td>\n",
              "      <td>1331.15</td>\n",
              "      <td>-0.03</td>\n",
              "      <td>2019-09-18</td>\n",
              "      <td>9</td>\n",
              "      <td>1374.55</td>\n",
              "      <td>1400.45</td>\n",
              "      <td>...</td>\n",
              "      <td>1303.606429</td>\n",
              "      <td>1303.468831</td>\n",
              "      <td>1312.792490</td>\n",
              "      <td>1319.392754</td>\n",
              "      <td>1324.6260</td>\n",
              "      <td>1329.304462</td>\n",
              "      <td>1334.651140</td>\n",
              "      <td>1341.353571</td>\n",
              "      <td>1345.488300</td>\n",
              "      <td>1349.365977</td>\n",
              "    </tr>\n",
              "  </tbody>\n",
              "</table>\n",
              "<p>5 rows × 38 columns</p>\n",
              "</div>\n",
              "      <button class=\"colab-df-convert\" onclick=\"convertToInteractive('df-cac5a055-d7d7-4b84-9323-ad1d1e4fc85e')\"\n",
              "              title=\"Convert this dataframe to an interactive table.\"\n",
              "              style=\"display:none;\">\n",
              "\n",
              "  <svg xmlns=\"http://www.w3.org/2000/svg\" height=\"24px\"viewBox=\"0 0 24 24\"\n",
              "       width=\"24px\">\n",
              "    <path d=\"M0 0h24v24H0V0z\" fill=\"none\"/>\n",
              "    <path d=\"M18.56 5.44l.94 2.06.94-2.06 2.06-.94-2.06-.94-.94-2.06-.94 2.06-2.06.94zm-11 1L8.5 8.5l.94-2.06 2.06-.94-2.06-.94L8.5 2.5l-.94 2.06-2.06.94zm10 10l.94 2.06.94-2.06 2.06-.94-2.06-.94-.94-2.06-.94 2.06-2.06.94z\"/><path d=\"M17.41 7.96l-1.37-1.37c-.4-.4-.92-.59-1.43-.59-.52 0-1.04.2-1.43.59L10.3 9.45l-7.72 7.72c-.78.78-.78 2.05 0 2.83L4 21.41c.39.39.9.59 1.41.59.51 0 1.02-.2 1.41-.59l7.78-7.78 2.81-2.81c.8-.78.8-2.07 0-2.86zM5.41 20L4 18.59l7.72-7.72 1.47 1.35L5.41 20z\"/>\n",
              "  </svg>\n",
              "      </button>\n",
              "\n",
              "\n",
              "\n",
              "    <div id=\"df-3111fa2c-a4b3-41a2-8460-0302b691eac2\">\n",
              "      <button class=\"colab-df-quickchart\" onclick=\"quickchart('df-3111fa2c-a4b3-41a2-8460-0302b691eac2')\"\n",
              "              title=\"Suggest charts.\"\n",
              "              style=\"display:none;\">\n",
              "\n",
              "<svg xmlns=\"http://www.w3.org/2000/svg\" height=\"24px\"viewBox=\"0 0 24 24\"\n",
              "     width=\"24px\">\n",
              "    <g>\n",
              "        <path d=\"M19 3H5c-1.1 0-2 .9-2 2v14c0 1.1.9 2 2 2h14c1.1 0 2-.9 2-2V5c0-1.1-.9-2-2-2zM9 17H7v-7h2v7zm4 0h-2V7h2v10zm4 0h-2v-4h2v4z\"/>\n",
              "    </g>\n",
              "</svg>\n",
              "      </button>\n",
              "    </div>\n",
              "\n",
              "<style>\n",
              "  .colab-df-quickchart {\n",
              "    background-color: #E8F0FE;\n",
              "    border: none;\n",
              "    border-radius: 50%;\n",
              "    cursor: pointer;\n",
              "    display: none;\n",
              "    fill: #1967D2;\n",
              "    height: 32px;\n",
              "    padding: 0 0 0 0;\n",
              "    width: 32px;\n",
              "  }\n",
              "\n",
              "  .colab-df-quickchart:hover {\n",
              "    background-color: #E2EBFA;\n",
              "    box-shadow: 0px 1px 2px rgba(60, 64, 67, 0.3), 0px 1px 3px 1px rgba(60, 64, 67, 0.15);\n",
              "    fill: #174EA6;\n",
              "  }\n",
              "\n",
              "  [theme=dark] .colab-df-quickchart {\n",
              "    background-color: #3B4455;\n",
              "    fill: #D2E3FC;\n",
              "  }\n",
              "\n",
              "  [theme=dark] .colab-df-quickchart:hover {\n",
              "    background-color: #434B5C;\n",
              "    box-shadow: 0px 1px 3px 1px rgba(0, 0, 0, 0.15);\n",
              "    filter: drop-shadow(0px 1px 2px rgba(0, 0, 0, 0.3));\n",
              "    fill: #FFFFFF;\n",
              "  }\n",
              "</style>\n",
              "\n",
              "    <script>\n",
              "      async function quickchart(key) {\n",
              "        const containerElement = document.querySelector('#' + key);\n",
              "        const charts = await google.colab.kernel.invokeFunction(\n",
              "            'suggestCharts', [key], {});\n",
              "      }\n",
              "    </script>\n",
              "\n",
              "      <script>\n",
              "\n",
              "function displayQuickchartButton(domScope) {\n",
              "  let quickchartButtonEl =\n",
              "    domScope.querySelector('#df-3111fa2c-a4b3-41a2-8460-0302b691eac2 button.colab-df-quickchart');\n",
              "  quickchartButtonEl.style.display =\n",
              "    google.colab.kernel.accessAllowed ? 'block' : 'none';\n",
              "}\n",
              "\n",
              "        displayQuickchartButton(document);\n",
              "      </script>\n",
              "      <style>\n",
              "    .colab-df-container {\n",
              "      display:flex;\n",
              "      flex-wrap:wrap;\n",
              "      gap: 12px;\n",
              "    }\n",
              "\n",
              "    .colab-df-convert {\n",
              "      background-color: #E8F0FE;\n",
              "      border: none;\n",
              "      border-radius: 50%;\n",
              "      cursor: pointer;\n",
              "      display: none;\n",
              "      fill: #1967D2;\n",
              "      height: 32px;\n",
              "      padding: 0 0 0 0;\n",
              "      width: 32px;\n",
              "    }\n",
              "\n",
              "    .colab-df-convert:hover {\n",
              "      background-color: #E2EBFA;\n",
              "      box-shadow: 0px 1px 2px rgba(60, 64, 67, 0.3), 0px 1px 3px 1px rgba(60, 64, 67, 0.15);\n",
              "      fill: #174EA6;\n",
              "    }\n",
              "\n",
              "    [theme=dark] .colab-df-convert {\n",
              "      background-color: #3B4455;\n",
              "      fill: #D2E3FC;\n",
              "    }\n",
              "\n",
              "    [theme=dark] .colab-df-convert:hover {\n",
              "      background-color: #434B5C;\n",
              "      box-shadow: 0px 1px 3px 1px rgba(0, 0, 0, 0.15);\n",
              "      filter: drop-shadow(0px 1px 2px rgba(0, 0, 0, 0.3));\n",
              "      fill: #FFFFFF;\n",
              "    }\n",
              "  </style>\n",
              "\n",
              "      <script>\n",
              "        const buttonEl =\n",
              "          document.querySelector('#df-cac5a055-d7d7-4b84-9323-ad1d1e4fc85e button.colab-df-convert');\n",
              "        buttonEl.style.display =\n",
              "          google.colab.kernel.accessAllowed ? 'block' : 'none';\n",
              "\n",
              "        async function convertToInteractive(key) {\n",
              "          const element = document.querySelector('#df-cac5a055-d7d7-4b84-9323-ad1d1e4fc85e');\n",
              "          const dataTable =\n",
              "            await google.colab.kernel.invokeFunction('convertToInteractive',\n",
              "                                                     [key], {});\n",
              "          if (!dataTable) return;\n",
              "\n",
              "          const docLinkHtml = 'Like what you see? Visit the ' +\n",
              "            '<a target=\"_blank\" href=https://colab.research.google.com/notebooks/data_table.ipynb>data table notebook</a>'\n",
              "            + ' to learn more about interactive tables.';\n",
              "          element.innerHTML = '';\n",
              "          dataTable['output_type'] = 'display_data';\n",
              "          await google.colab.output.renderOutput(dataTable, element);\n",
              "          const docLink = document.createElement('div');\n",
              "          docLink.innerHTML = docLinkHtml;\n",
              "          element.appendChild(docLink);\n",
              "        }\n",
              "      </script>\n",
              "    </div>\n",
              "  </div>\n"
            ]
          },
          "metadata": {},
          "execution_count": 58
        }
      ]
    },
    {
      "cell_type": "code",
      "source": [
        "\n",
        "plt.figure(figsize=(12, 8), dpi=80)\n",
        "plt.plot(range(1, N_max+1), RMSE, 'x-')\n",
        "plt.grid()\n",
        "plt.xlabel('N')\n",
        "plt.ylabel('RMSE')\n",
        "plt.xlim([2, 30])"
      ],
      "metadata": {
        "colab": {
          "base_uri": "https://localhost:8080/",
          "height": 575
        },
        "id": "YePoBYz_MTYN",
        "outputId": "e337f5ee-f661-464d-d094-d76ffec0c242"
      },
      "execution_count": null,
      "outputs": [
        {
          "output_type": "execute_result",
          "data": {
            "text/plain": [
              "(2.0, 30.0)"
            ]
          },
          "metadata": {},
          "execution_count": 59
        },
        {
          "output_type": "display_data",
          "data": {
            "text/plain": [
              "<Figure size 960x640 with 1 Axes>"
            ],
            "image/png": "[encoded data removed]"
          },
          "metadata": {}
        }
      ]
    },
    {
      "cell_type": "code",
      "source": [
        "\n",
        "plt.figure(figsize=(12, 8), dpi=80)\n",
        "plt.plot(range(1, N_max+1), R2, 'x-')\n",
        "plt.grid()\n",
        "plt.xlabel('N')\n",
        "plt.ylabel('R2')"
      ],
      "metadata": {
        "colab": {
          "base_uri": "https://localhost:8080/",
          "height": 575
        },
        "id": "FEDtSnZ-Mc3m",
        "outputId": "8bdefb09-2dbc-4e80-a36e-5d9ddcc82ce7"
      },
      "execution_count": null,
      "outputs": [
        {
          "output_type": "execute_result",
          "data": {
            "text/plain": [
              "Text(0, 0.5, 'R2')"
            ]
          },
          "metadata": {},
          "execution_count": 60
        },
        {
          "output_type": "display_data",
          "data": {
            "text/plain": [
              "<Figure size 960x640 with 1 Axes>"
            ],
            "image/png": "[encoded data removed]"
          },
          "metadata": {}
        }
      ]
    },
    {
      "cell_type": "code",
      "source": [
        "plt.figure(figsize=(12, 8), dpi=80)\n",
        "plt.plot(range(1, N_max+1), mape, 'x-')\n",
        "plt.grid()\n",
        "plt.xlabel('N')\n",
        "plt.ylabel('MAPE')"
      ],
      "metadata": {
        "colab": {
          "base_uri": "https://localhost:8080/",
          "height": 575
        },
        "id": "xHwqx3bVMiL8",
        "outputId": "e1d7388a-f140-4fba-9ac0-6c19893eb69e"
      },
      "execution_count": null,
      "outputs": [
        {
          "output_type": "execute_result",
          "data": {
            "text/plain": [
              "Text(0, 0.5, 'MAPE')"
            ]
          },
          "metadata": {},
          "execution_count": 61
        },
        {
          "output_type": "display_data",
          "data": {
            "text/plain": [
              "<Figure size 960x640 with 1 Axes>"
            ],
            "image/png": "[encoded data removed]"
          },
          "metadata": {}
        }
      ]
    },
    {
      "cell_type": "code",
      "source": [
        "from datetime import date, datetime, time, timedelta"
      ],
      "metadata": {
        "id": "SOxbdlArN_nA"
      },
      "execution_count": null,
      "outputs": []
    },
    {
      "cell_type": "code",
      "source": [
        "day = pd.Timestamp(date(2020, 10, 31))\n",
        "\n",
        "# Specify the maximum N you want to plot (If Nmax2 is too large it gets very cluttered)\n",
        "N_max2 = 3\n",
        "\n",
        "df_temp = cv[cv['Date'] <= day]\n",
        "plt.figure(figsize=(12, 8), dpi=80)\n",
        "plt.plot(range(1,N_max2+2), df_temp[-N_max2-1:]['Price'], 'bx-')\n",
        "plt.plot(N_max2+1, df_temp[-1:]['Price'], 'ys-')\n",
        "legend_list = ['Price', 'actual_value']\n",
        "\n",
        "# Plot the linear regression lines and the predictions\n",
        "color_list = ['r', 'g', 'k', 'y', 'm', 'c', '0.75']\n",
        "marker_list = ['x', 'x', 'x', 'x', 'x', 'x', 'x']\n",
        "regr = LinearRegression(fit_intercept=True) # Create linear regression object\n",
        "for N in range(3, N_max2+1):\n",
        "    # Plot the linear regression lines\n",
        "    X_train = np.array(range(len(df_temp['Price'][-N-1:-1]))) # e.g. [0 1 2 3 4]\n",
        "    y_train = np.array(df_temp['Price'][-N-1:-1]) # e.g. [2944 3088 3226 3335 3436]\n",
        "    X_train = X_train.reshape(-1, 1)\n",
        "    y_train = y_train.reshape(-1, 1)\n",
        "    regr.fit(X_train, y_train)            # Train the model\n",
        "    y_est = regr.predict(X_train)         # Get linear regression line\n",
        "    plt.plot(range(N_max2+1-N,N_max2+2),\n",
        "             np.append((y_est, np.array(df_temp['est_N'+str(N)][-1:]).reshape(-1,1))),\n",
        "             color=color_list[N%len(color_list)],\n",
        "             marker=marker_list[N%len(marker_list)])\n",
        "    legend_list.append('est_N'+str(N)+'_lr')\n",
        "\n",
        "    # Plot the predictions\n",
        "    plt.plot(N_max2+1,\n",
        "             df_temp['est_N'+str(N)][-1:],\n",
        "             color=color_list[N%len(color_list)],\n",
        "             marker='o')\n",
        "    legend_list.append('est_N'+str(N))\n",
        "\n",
        "\n",
        "plt.grid()\n",
        "plt.xlabel('timestep')\n",
        "plt.ylabel('USD')\n",
        "plt.legend(legend_list, bbox_to_anchor=(1.05, 1))"
      ],
      "metadata": {
        "colab": {
          "base_uri": "https://localhost:8080/",
          "height": 795
        },
        "id": "AuGuMyZSMuS9",
        "outputId": "ed280ea8-d7e3-43ef-8e9b-1d34ee3b60de"
      },
      "execution_count": null,
      "outputs": [
        {
          "output_type": "error",
          "ename": "TypeError",
          "evalue": "ignored",
          "traceback": [
            "\u001b[0;31m---------------------------------------------------------------------------\u001b[0m",
            "\u001b[0;31mTypeError\u001b[0m                                 Traceback (most recent call last)",
            "\u001b[0;32m<ipython-input-66-bd178d95fb05>\u001b[0m in \u001b[0;36m<cell line: 16>\u001b[0;34m()\u001b[0m\n\u001b[1;32m     23\u001b[0m     \u001b[0my_est\u001b[0m \u001b[0;34m=\u001b[0m \u001b[0mregr\u001b[0m\u001b[0;34m.\u001b[0m\u001b[0mpredict\u001b[0m\u001b[0;34m(\u001b[0m\u001b[0mX_train\u001b[0m\u001b[0;34m)\u001b[0m         \u001b[0;31m# Get linear regression line\u001b[0m\u001b[0;34m\u001b[0m\u001b[0;34m\u001b[0m\u001b[0m\n\u001b[1;32m     24\u001b[0m     plt.plot(range(N_max2+1-N,N_max2+2),\n\u001b[0;32m---> 25\u001b[0;31m              \u001b[0mnp\u001b[0m\u001b[0;34m.\u001b[0m\u001b[0mappend\u001b[0m\u001b[0;34m(\u001b[0m\u001b[0;34m(\u001b[0m\u001b[0my_est\u001b[0m\u001b[0;34m,\u001b[0m \u001b[0mnp\u001b[0m\u001b[0;34m.\u001b[0m\u001b[0marray\u001b[0m\u001b[0;34m(\u001b[0m\u001b[0mdf_temp\u001b[0m\u001b[0;34m[\u001b[0m\u001b[0;34m'est_N'\u001b[0m\u001b[0;34m+\u001b[0m\u001b[0mstr\u001b[0m\u001b[0;34m(\u001b[0m\u001b[0mN\u001b[0m\u001b[0;34m)\u001b[0m\u001b[0;34m]\u001b[0m\u001b[0;34m[\u001b[0m\u001b[0;34m-\u001b[0m\u001b[0;36m1\u001b[0m\u001b[0;34m:\u001b[0m\u001b[0;34m]\u001b[0m\u001b[0;34m)\u001b[0m\u001b[0;34m.\u001b[0m\u001b[0mreshape\u001b[0m\u001b[0;34m(\u001b[0m\u001b[0;34m-\u001b[0m\u001b[0;36m1\u001b[0m\u001b[0;34m,\u001b[0m\u001b[0;36m1\u001b[0m\u001b[0;34m)\u001b[0m\u001b[0;34m)\u001b[0m\u001b[0;34m)\u001b[0m\u001b[0;34m,\u001b[0m\u001b[0;34m\u001b[0m\u001b[0;34m\u001b[0m\u001b[0m\n\u001b[0m\u001b[1;32m     26\u001b[0m              \u001b[0mcolor\u001b[0m\u001b[0;34m=\u001b[0m\u001b[0mcolor_list\u001b[0m\u001b[0;34m[\u001b[0m\u001b[0mN\u001b[0m\u001b[0;34m%\u001b[0m\u001b[0mlen\u001b[0m\u001b[0;34m(\u001b[0m\u001b[0mcolor_list\u001b[0m\u001b[0;34m)\u001b[0m\u001b[0;34m]\u001b[0m\u001b[0;34m,\u001b[0m\u001b[0;34m\u001b[0m\u001b[0;34m\u001b[0m\u001b[0m\n\u001b[1;32m     27\u001b[0m              marker=marker_list[N%len(marker_list)])\n",
            "\u001b[0;32m/usr/local/lib/python3.10/dist-packages/numpy/core/overrides.py\u001b[0m in \u001b[0;36mappend\u001b[0;34m(*args, **kwargs)\u001b[0m\n",
            "\u001b[0;31mTypeError\u001b[0m: _append_dispatcher() missing 1 required positional argument: 'values'"
          ]
        },
        {
          "output_type": "display_data",
          "data": {
            "text/plain": [
              "<Figure size 960x640 with 1 Axes>"
            ],
            "image/png": "[encoded data removed]"
          },
          "metadata": {}
        }
      ]
    },
    {
      "cell_type": "code",
      "source": [
        "rcParams['figure.figsize'] = 10, 8 # width 10, height 8\n",
        "\n",
        "ax = train.plot(x='Date', y='Price', style='b-', grid=True)\n",
        "ax = cv.plot(x='Date', y='Price', style='y-', grid=True, ax=ax)\n",
        "ax = test.plot(x='Date', y='Price', style='g-', grid=True, ax=ax)\n",
        "ax = cv.plot(x='Date', y='est_N1', style='r-', grid=True, ax=ax)\n",
        "ax = cv.plot(x='Date', y='est_N3', style='m-', grid=True, ax=ax)\n",
        "ax.legend(['train', 'CV', 'test', 'predictions with N=1', 'predictions with N=3'])\n",
        "ax.set_xlabel(\"date\")\n",
        "ax.set_ylabel(\"INR\")"
      ],
      "metadata": {
        "colab": {
          "base_uri": "https://localhost:8080/",
          "height": 657
        },
        "id": "RXHcF2GnbkZt",
        "outputId": "bced85a1-d197-46e8-ad2a-02103a76ea5e"
      },
      "execution_count": null,
      "outputs": [
        {
          "output_type": "execute_result",
          "data": {
            "text/plain": [
              "Text(0, 0.5, 'INR')"
            ]
          },
          "metadata": {},
          "execution_count": 67
        },
        {
          "output_type": "display_data",
          "data": {
            "text/plain": [
              "<Figure size 1000x800 with 1 Axes>"
            ],
            "image/png": "[encoded data removed]"
          },
          "metadata": {}
        }
      ]
    },
    {
      "cell_type": "code",
      "source": [
        "\n",
        "\n",
        "ax = train.plot(x='Date', y='Price', style='bx-', grid=True)\n",
        "ax = cv.plot(x='Date', y='Price', style='yx-', grid=True, ax=ax)\n",
        "ax = test.plot(x='Date', y='Price', style='gx-', grid=True, ax=ax)\n",
        "ax = cv.plot(x='Date', y='est_N1', style='rx-', grid=True, ax=ax)\n",
        "ax = cv.plot(x='Date', y='est_N3', style='mx-', grid=True, ax=ax)\n",
        "ax.legend(['train', 'cv', 'test', 'predictions with N=1', 'predictions with N=3'])\n",
        "ax.set_xlabel(\"date\")\n",
        "ax.set_ylabel(\"INR\")\n",
        "ax.set_xlim([date(2020, 11, 1), date(2020, 12, 30)])\n",
        "ax.set_ylim([1100, 1600])\n",
        "ax.set_title('Zoom in to dev set')"
      ],
      "metadata": {
        "colab": {
          "base_uri": "https://localhost:8080/",
          "height": 701
        },
        "id": "QYZt8rXdbkmn",
        "outputId": "069a38ff-a364-4b14-fac8-501967e131f0"
      },
      "execution_count": null,
      "outputs": [
        {
          "output_type": "execute_result",
          "data": {
            "text/plain": [
              "Text(0.5, 1.0, 'Zoom in to dev set')"
            ]
          },
          "metadata": {},
          "execution_count": 68
        },
        {
          "output_type": "display_data",
          "data": {
            "text/plain": [
              "<Figure size 1000x800 with 1 Axes>"
            ],
            "image/png": "[encoded data removed]"
          },
          "metadata": {}
        }
      ]
    },
    {
      "cell_type": "code",
      "source": [
        "est_list = get_preds_lin_reg(df, 'Price', 3, 0, num_train+num_cv)\n",
        "test.loc[:, 'est' + '_N' + str(3)] = est_list\n",
        "print(\"RMSE = %0.3f\" % math.sqrt(mean_squared_error(est_list, test['Price'])))\n",
        "print(\"R2 = %0.3f\" % r2_score(test['Price'], est_list))\n",
        "print(\"MAPE = %0.3f%%\" % get_mape(test['Price'], est_list))\n",
        "test.head()"
      ],
      "metadata": {
        "colab": {
          "base_uri": "https://localhost:8080/",
          "height": 258
        },
        "id": "mjOgqUsfcckK",
        "outputId": "90ba6d39-d31e-47a2-f32f-8f7c6606a293"
      },
      "execution_count": null,
      "outputs": [
        {
          "output_type": "stream",
          "name": "stdout",
          "text": [
            "RMSE = 53.473\n",
            "R2 = 0.972\n",
            "MAPE = 1.745%\n"
          ]
        },
        {
          "output_type": "execute_result",
          "data": {
            "text/plain": [
              "            date    Price     Open     High      Low  Chg%       Date  month  \\\n",
              "1798  23-04-2021  1730.75  1714.95  1739.90  1696.15  0.01 2021-04-23      4   \n",
              "1799  26-04-2021  1738.65  1741.40  1745.85  1722.20  0.00 2021-04-26      4   \n",
              "1800  27-04-2021  1728.45  1736.55  1743.00  1724.55 -0.01 2021-04-27      4   \n",
              "1801  28-04-2021  1734.80  1728.45  1740.00  1713.00  0.00 2021-04-28      4   \n",
              "1802  29-04-2021  1723.40  1748.00  1748.95  1719.60 -0.01 2021-04-29      4   \n",
              "\n",
              "           est_N3  \n",
              "1798  1725.366667  \n",
              "1799  1755.100000  \n",
              "1800  1753.450000  \n",
              "1801  1730.316667  \n",
              "1802  1730.116667  "
            ],
            "text/html": [
              "\n",
              "\n",
              "  <div id=\"df-3f1bea82-b0af-43f3-ae84-30fcd9bd5d65\">\n",
              "    <div class=\"colab-df-container\">\n",
              "      <div>\n",
              "<style scoped>\n",
              "    .dataframe tbody tr th:only-of-type {\n",
              "        vertical-align: middle;\n",
              "    }\n",
              "\n",
              "    .dataframe tbody tr th {\n",
              "        vertical-align: top;\n",
              "    }\n",
              "\n",
              "    .dataframe thead th {\n",
              "        text-align: right;\n",
              "    }\n",
              "</style>\n",
              "<table border=\"1\" class=\"dataframe\">\n",
              "  <thead>\n",
              "    <tr style=\"text-align: right;\">\n",
              "      <th></th>\n",
              "      <th>date</th>\n",
              "      <th>Price</th>\n",
              "      <th>Open</th>\n",
              "      <th>High</th>\n",
              "      <th>Low</th>\n",
              "      <th>Chg%</th>\n",
              "      <th>Date</th>\n",
              "      <th>month</th>\n",
              "      <th>est_N3</th>\n",
              "    </tr>\n",
              "  </thead>\n",
              "  <tbody>\n",
              "    <tr>\n",
              "      <th>1798</th>\n",
              "      <td>23-04-2021</td>\n",
              "      <td>1730.75</td>\n",
              "      <td>1714.95</td>\n",
              "      <td>1739.90</td>\n",
              "      <td>1696.15</td>\n",
              "      <td>0.01</td>\n",
              "      <td>2021-04-23</td>\n",
              "      <td>4</td>\n",
              "      <td>1725.366667</td>\n",
              "    </tr>\n",
              "    <tr>\n",
              "      <th>1799</th>\n",
              "      <td>26-04-2021</td>\n",
              "      <td>1738.65</td>\n",
              "      <td>1741.40</td>\n",
              "      <td>1745.85</td>\n",
              "      <td>1722.20</td>\n",
              "      <td>0.00</td>\n",
              "      <td>2021-04-26</td>\n",
              "      <td>4</td>\n",
              "      <td>1755.100000</td>\n",
              "    </tr>\n",
              "    <tr>\n",
              "      <th>1800</th>\n",
              "      <td>27-04-2021</td>\n",
              "      <td>1728.45</td>\n",
              "      <td>1736.55</td>\n",
              "      <td>1743.00</td>\n",
              "      <td>1724.55</td>\n",
              "      <td>-0.01</td>\n",
              "      <td>2021-04-27</td>\n",
              "      <td>4</td>\n",
              "      <td>1753.450000</td>\n",
              "    </tr>\n",
              "    <tr>\n",
              "      <th>1801</th>\n",
              "      <td>28-04-2021</td>\n",
              "      <td>1734.80</td>\n",
              "      <td>1728.45</td>\n",
              "      <td>1740.00</td>\n",
              "      <td>1713.00</td>\n",
              "      <td>0.00</td>\n",
              "      <td>2021-04-28</td>\n",
              "      <td>4</td>\n",
              "      <td>1730.316667</td>\n",
              "    </tr>\n",
              "    <tr>\n",
              "      <th>1802</th>\n",
              "      <td>29-04-2021</td>\n",
              "      <td>1723.40</td>\n",
              "      <td>1748.00</td>\n",
              "      <td>1748.95</td>\n",
              "      <td>1719.60</td>\n",
              "      <td>-0.01</td>\n",
              "      <td>2021-04-29</td>\n",
              "      <td>4</td>\n",
              "      <td>1730.116667</td>\n",
              "    </tr>\n",
              "  </tbody>\n",
              "</table>\n",
              "</div>\n",
              "      <button class=\"colab-df-convert\" onclick=\"convertToInteractive('df-3f1bea82-b0af-43f3-ae84-30fcd9bd5d65')\"\n",
              "              title=\"Convert this dataframe to an interactive table.\"\n",
              "              style=\"display:none;\">\n",
              "\n",
              "  <svg xmlns=\"http://www.w3.org/2000/svg\" height=\"24px\"viewBox=\"0 0 24 24\"\n",
              "       width=\"24px\">\n",
              "    <path d=\"M0 0h24v24H0V0z\" fill=\"none\"/>\n",
              "    <path d=\"M18.56 5.44l.94 2.06.94-2.06 2.06-.94-2.06-.94-.94-2.06-.94 2.06-2.06.94zm-11 1L8.5 8.5l.94-2.06 2.06-.94-2.06-.94L8.5 2.5l-.94 2.06-2.06.94zm10 10l.94 2.06.94-2.06 2.06-.94-2.06-.94-.94-2.06-.94 2.06-2.06.94z\"/><path d=\"M17.41 7.96l-1.37-1.37c-.4-.4-.92-.59-1.43-.59-.52 0-1.04.2-1.43.59L10.3 9.45l-7.72 7.72c-.78.78-.78 2.05 0 2.83L4 21.41c.39.39.9.59 1.41.59.51 0 1.02-.2 1.41-.59l7.78-7.78 2.81-2.81c.8-.78.8-2.07 0-2.86zM5.41 20L4 18.59l7.72-7.72 1.47 1.35L5.41 20z\"/>\n",
              "  </svg>\n",
              "      </button>\n",
              "\n",
              "\n",
              "\n",
              "    <div id=\"df-5d30038e-33d6-4f61-9d31-b1074fa84199\">\n",
              "      <button class=\"colab-df-quickchart\" onclick=\"quickchart('df-5d30038e-33d6-4f61-9d31-b1074fa84199')\"\n",
              "              title=\"Suggest charts.\"\n",
              "              style=\"display:none;\">\n",
              "\n",
              "<svg xmlns=\"http://www.w3.org/2000/svg\" height=\"24px\"viewBox=\"0 0 24 24\"\n",
              "     width=\"24px\">\n",
              "    <g>\n",
              "        <path d=\"M19 3H5c-1.1 0-2 .9-2 2v14c0 1.1.9 2 2 2h14c1.1 0 2-.9 2-2V5c0-1.1-.9-2-2-2zM9 17H7v-7h2v7zm4 0h-2V7h2v10zm4 0h-2v-4h2v4z\"/>\n",
              "    </g>\n",
              "</svg>\n",
              "      </button>\n",
              "    </div>\n",
              "\n",
              "<style>\n",
              "  .colab-df-quickchart {\n",
              "    background-color: #E8F0FE;\n",
              "    border: none;\n",
              "    border-radius: 50%;\n",
              "    cursor: pointer;\n",
              "    display: none;\n",
              "    fill: #1967D2;\n",
              "    height: 32px;\n",
              "    padding: 0 0 0 0;\n",
              "    width: 32px;\n",
              "  }\n",
              "\n",
              "  .colab-df-quickchart:hover {\n",
              "    background-color: #E2EBFA;\n",
              "    box-shadow: 0px 1px 2px rgba(60, 64, 67, 0.3), 0px 1px 3px 1px rgba(60, 64, 67, 0.15);\n",
              "    fill: #174EA6;\n",
              "  }\n",
              "\n",
              "  [theme=dark] .colab-df-quickchart {\n",
              "    background-color: #3B4455;\n",
              "    fill: #D2E3FC;\n",
              "  }\n",
              "\n",
              "  [theme=dark] .colab-df-quickchart:hover {\n",
              "    background-color: #434B5C;\n",
              "    box-shadow: 0px 1px 3px 1px rgba(0, 0, 0, 0.15);\n",
              "    filter: drop-shadow(0px 1px 2px rgba(0, 0, 0, 0.3));\n",
              "    fill: #FFFFFF;\n",
              "  }\n",
              "</style>\n",
              "\n",
              "    <script>\n",
              "      async function quickchart(key) {\n",
              "        const containerElement = document.querySelector('#' + key);\n",
              "        const charts = await google.colab.kernel.invokeFunction(\n",
              "            'suggestCharts', [key], {});\n",
              "      }\n",
              "    </script>\n",
              "\n",
              "      <script>\n",
              "\n",
              "function displayQuickchartButton(domScope) {\n",
              "  let quickchartButtonEl =\n",
              "    domScope.querySelector('#df-5d30038e-33d6-4f61-9d31-b1074fa84199 button.colab-df-quickchart');\n",
              "  quickchartButtonEl.style.display =\n",
              "    google.colab.kernel.accessAllowed ? 'block' : 'none';\n",
              "}\n",
              "\n",
              "        displayQuickchartButton(document);\n",
              "      </script>\n",
              "      <style>\n",
              "    .colab-df-container {\n",
              "      display:flex;\n",
              "      flex-wrap:wrap;\n",
              "      gap: 12px;\n",
              "    }\n",
              "\n",
              "    .colab-df-convert {\n",
              "      background-color: #E8F0FE;\n",
              "      border: none;\n",
              "      border-radius: 50%;\n",
              "      cursor: pointer;\n",
              "      display: none;\n",
              "      fill: #1967D2;\n",
              "      height: 32px;\n",
              "      padding: 0 0 0 0;\n",
              "      width: 32px;\n",
              "    }\n",
              "\n",
              "    .colab-df-convert:hover {\n",
              "      background-color: #E2EBFA;\n",
              "      box-shadow: 0px 1px 2px rgba(60, 64, 67, 0.3), 0px 1px 3px 1px rgba(60, 64, 67, 0.15);\n",
              "      fill: #174EA6;\n",
              "    }\n",
              "\n",
              "    [theme=dark] .colab-df-convert {\n",
              "      background-color: #3B4455;\n",
              "      fill: #D2E3FC;\n",
              "    }\n",
              "\n",
              "    [theme=dark] .colab-df-convert:hover {\n",
              "      background-color: #434B5C;\n",
              "      box-shadow: 0px 1px 3px 1px rgba(0, 0, 0, 0.15);\n",
              "      filter: drop-shadow(0px 1px 2px rgba(0, 0, 0, 0.3));\n",
              "      fill: #FFFFFF;\n",
              "    }\n",
              "  </style>\n",
              "\n",
              "      <script>\n",
              "        const buttonEl =\n",
              "          document.querySelector('#df-3f1bea82-b0af-43f3-ae84-30fcd9bd5d65 button.colab-df-convert');\n",
              "        buttonEl.style.display =\n",
              "          google.colab.kernel.accessAllowed ? 'block' : 'none';\n",
              "\n",
              "        async function convertToInteractive(key) {\n",
              "          const element = document.querySelector('#df-3f1bea82-b0af-43f3-ae84-30fcd9bd5d65');\n",
              "          const dataTable =\n",
              "            await google.colab.kernel.invokeFunction('convertToInteractive',\n",
              "                                                     [key], {});\n",
              "          if (!dataTable) return;\n",
              "\n",
              "          const docLinkHtml = 'Like what you see? Visit the ' +\n",
              "            '<a target=\"_blank\" href=https://colab.research.google.com/notebooks/data_table.ipynb>data table notebook</a>'\n",
              "            + ' to learn more about interactive tables.';\n",
              "          element.innerHTML = '';\n",
              "          dataTable['output_type'] = 'display_data';\n",
              "          await google.colab.output.renderOutput(dataTable, element);\n",
              "          const docLink = document.createElement('div');\n",
              "          docLink.innerHTML = docLinkHtml;\n",
              "          element.appendChild(docLink);\n",
              "        }\n",
              "      </script>\n",
              "    </div>\n",
              "  </div>\n"
            ]
          },
          "metadata": {},
          "execution_count": 95
        }
      ]
    },
    {
      "cell_type": "markdown",
      "source": [
        "LAST VALUE is nothing but N = 1"
      ],
      "metadata": {
        "id": "dGKGJ5xc-5HB"
      }
    },
    {
      "cell_type": "code",
      "source": [
        "est_list = get_preds_lin_reg(df, 'Price', 1, 0, num_train+num_cv)\n",
        "test.loc[:, 'est' + '_N' + str(3)] = est_list\n",
        "print(\"RMSE = %0.3f\" % math.sqrt(mean_squared_error(est_list, test['Price'])))\n",
        "print(\"R2 = %0.3f\" % r2_score(test['Price'], est_list))\n",
        "print(\"MAPE = %0.3f%%\" % get_mape(test['Price'], est_list))\n",
        "test.head()"
      ],
      "metadata": {
        "id": "pcRFJFQ4s3aN",
        "colab": {
          "base_uri": "https://localhost:8080/",
          "height": 258
        },
        "outputId": "312e43fd-1abb-4b72-bb8f-7332b772dd07"
      },
      "execution_count": null,
      "outputs": [
        {
          "output_type": "stream",
          "name": "stdout",
          "text": [
            "RMSE = 43.291\n",
            "R2 = 0.982\n",
            "MAPE = 1.316%\n"
          ]
        },
        {
          "output_type": "execute_result",
          "data": {
            "text/plain": [
              "            date    Price     Open     High      Low  Chg%       Date  month  \\\n",
              "1798  23-04-2021  1730.75  1714.95  1739.90  1696.15  0.01 2021-04-23      4   \n",
              "1799  26-04-2021  1738.65  1741.40  1745.85  1722.20  0.00 2021-04-26      4   \n",
              "1800  27-04-2021  1728.45  1736.55  1743.00  1724.55 -0.01 2021-04-27      4   \n",
              "1801  28-04-2021  1734.80  1728.45  1740.00  1713.00  0.00 2021-04-28      4   \n",
              "1802  29-04-2021  1723.40  1748.00  1748.95  1719.60 -0.01 2021-04-29      4   \n",
              "\n",
              "       est_N3  \n",
              "1798  1712.50  \n",
              "1799  1730.75  \n",
              "1800  1738.65  \n",
              "1801  1728.45  \n",
              "1802  1734.80  "
            ],
            "text/html": [
              "\n",
              "\n",
              "  <div id=\"df-f0f50fa8-d57e-445d-aef3-065d7c77a87b\">\n",
              "    <div class=\"colab-df-container\">\n",
              "      <div>\n",
              "<style scoped>\n",
              "    .dataframe tbody tr th:only-of-type {\n",
              "        vertical-align: middle;\n",
              "    }\n",
              "\n",
              "    .dataframe tbody tr th {\n",
              "        vertical-align: top;\n",
              "    }\n",
              "\n",
              "    .dataframe thead th {\n",
              "        text-align: right;\n",
              "    }\n",
              "</style>\n",
              "<table border=\"1\" class=\"dataframe\">\n",
              "  <thead>\n",
              "    <tr style=\"text-align: right;\">\n",
              "      <th></th>\n",
              "      <th>date</th>\n",
              "      <th>Price</th>\n",
              "      <th>Open</th>\n",
              "      <th>High</th>\n",
              "      <th>Low</th>\n",
              "      <th>Chg%</th>\n",
              "      <th>Date</th>\n",
              "      <th>month</th>\n",
              "      <th>est_N3</th>\n",
              "    </tr>\n",
              "  </thead>\n",
              "  <tbody>\n",
              "    <tr>\n",
              "      <th>1798</th>\n",
              "      <td>23-04-2021</td>\n",
              "      <td>1730.75</td>\n",
              "      <td>1714.95</td>\n",
              "      <td>1739.90</td>\n",
              "      <td>1696.15</td>\n",
              "      <td>0.01</td>\n",
              "      <td>2021-04-23</td>\n",
              "      <td>4</td>\n",
              "      <td>1712.50</td>\n",
              "    </tr>\n",
              "    <tr>\n",
              "      <th>1799</th>\n",
              "      <td>26-04-2021</td>\n",
              "      <td>1738.65</td>\n",
              "      <td>1741.40</td>\n",
              "      <td>1745.85</td>\n",
              "      <td>1722.20</td>\n",
              "      <td>0.00</td>\n",
              "      <td>2021-04-26</td>\n",
              "      <td>4</td>\n",
              "      <td>1730.75</td>\n",
              "    </tr>\n",
              "    <tr>\n",
              "      <th>1800</th>\n",
              "      <td>27-04-2021</td>\n",
              "      <td>1728.45</td>\n",
              "      <td>1736.55</td>\n",
              "      <td>1743.00</td>\n",
              "      <td>1724.55</td>\n",
              "      <td>-0.01</td>\n",
              "      <td>2021-04-27</td>\n",
              "      <td>4</td>\n",
              "      <td>1738.65</td>\n",
              "    </tr>\n",
              "    <tr>\n",
              "      <th>1801</th>\n",
              "      <td>28-04-2021</td>\n",
              "      <td>1734.80</td>\n",
              "      <td>1728.45</td>\n",
              "      <td>1740.00</td>\n",
              "      <td>1713.00</td>\n",
              "      <td>0.00</td>\n",
              "      <td>2021-04-28</td>\n",
              "      <td>4</td>\n",
              "      <td>1728.45</td>\n",
              "    </tr>\n",
              "    <tr>\n",
              "      <th>1802</th>\n",
              "      <td>29-04-2021</td>\n",
              "      <td>1723.40</td>\n",
              "      <td>1748.00</td>\n",
              "      <td>1748.95</td>\n",
              "      <td>1719.60</td>\n",
              "      <td>-0.01</td>\n",
              "      <td>2021-04-29</td>\n",
              "      <td>4</td>\n",
              "      <td>1734.80</td>\n",
              "    </tr>\n",
              "  </tbody>\n",
              "</table>\n",
              "</div>\n",
              "      <button class=\"colab-df-convert\" onclick=\"convertToInteractive('df-f0f50fa8-d57e-445d-aef3-065d7c77a87b')\"\n",
              "              title=\"Convert this dataframe to an interactive table.\"\n",
              "              style=\"display:none;\">\n",
              "\n",
              "  <svg xmlns=\"http://www.w3.org/2000/svg\" height=\"24px\"viewBox=\"0 0 24 24\"\n",
              "       width=\"24px\">\n",
              "    <path d=\"M0 0h24v24H0V0z\" fill=\"none\"/>\n",
              "    <path d=\"M18.56 5.44l.94 2.06.94-2.06 2.06-.94-2.06-.94-.94-2.06-.94 2.06-2.06.94zm-11 1L8.5 8.5l.94-2.06 2.06-.94-2.06-.94L8.5 2.5l-.94 2.06-2.06.94zm10 10l.94 2.06.94-2.06 2.06-.94-2.06-.94-.94-2.06-.94 2.06-2.06.94z\"/><path d=\"M17.41 7.96l-1.37-1.37c-.4-.4-.92-.59-1.43-.59-.52 0-1.04.2-1.43.59L10.3 9.45l-7.72 7.72c-.78.78-.78 2.05 0 2.83L4 21.41c.39.39.9.59 1.41.59.51 0 1.02-.2 1.41-.59l7.78-7.78 2.81-2.81c.8-.78.8-2.07 0-2.86zM5.41 20L4 18.59l7.72-7.72 1.47 1.35L5.41 20z\"/>\n",
              "  </svg>\n",
              "      </button>\n",
              "\n",
              "\n",
              "\n",
              "    <div id=\"df-126ca021-c7e9-47b6-a83d-eb236fa69c06\">\n",
              "      <button class=\"colab-df-quickchart\" onclick=\"quickchart('df-126ca021-c7e9-47b6-a83d-eb236fa69c06')\"\n",
              "              title=\"Suggest charts.\"\n",
              "              style=\"display:none;\">\n",
              "\n",
              "<svg xmlns=\"http://www.w3.org/2000/svg\" height=\"24px\"viewBox=\"0 0 24 24\"\n",
              "     width=\"24px\">\n",
              "    <g>\n",
              "        <path d=\"M19 3H5c-1.1 0-2 .9-2 2v14c0 1.1.9 2 2 2h14c1.1 0 2-.9 2-2V5c0-1.1-.9-2-2-2zM9 17H7v-7h2v7zm4 0h-2V7h2v10zm4 0h-2v-4h2v4z\"/>\n",
              "    </g>\n",
              "</svg>\n",
              "      </button>\n",
              "    </div>\n",
              "\n",
              "<style>\n",
              "  .colab-df-quickchart {\n",
              "    background-color: #E8F0FE;\n",
              "    border: none;\n",
              "    border-radius: 50%;\n",
              "    cursor: pointer;\n",
              "    display: none;\n",
              "    fill: #1967D2;\n",
              "    height: 32px;\n",
              "    padding: 0 0 0 0;\n",
              "    width: 32px;\n",
              "  }\n",
              "\n",
              "  .colab-df-quickchart:hover {\n",
              "    background-color: #E2EBFA;\n",
              "    box-shadow: 0px 1px 2px rgba(60, 64, 67, 0.3), 0px 1px 3px 1px rgba(60, 64, 67, 0.15);\n",
              "    fill: #174EA6;\n",
              "  }\n",
              "\n",
              "  [theme=dark] .colab-df-quickchart {\n",
              "    background-color: #3B4455;\n",
              "    fill: #D2E3FC;\n",
              "  }\n",
              "\n",
              "  [theme=dark] .colab-df-quickchart:hover {\n",
              "    background-color: #434B5C;\n",
              "    box-shadow: 0px 1px 3px 1px rgba(0, 0, 0, 0.15);\n",
              "    filter: drop-shadow(0px 1px 2px rgba(0, 0, 0, 0.3));\n",
              "    fill: #FFFFFF;\n",
              "  }\n",
              "</style>\n",
              "\n",
              "    <script>\n",
              "      async function quickchart(key) {\n",
              "        const containerElement = document.querySelector('#' + key);\n",
              "        const charts = await google.colab.kernel.invokeFunction(\n",
              "            'suggestCharts', [key], {});\n",
              "      }\n",
              "    </script>\n",
              "\n",
              "      <script>\n",
              "\n",
              "function displayQuickchartButton(domScope) {\n",
              "  let quickchartButtonEl =\n",
              "    domScope.querySelector('#df-126ca021-c7e9-47b6-a83d-eb236fa69c06 button.colab-df-quickchart');\n",
              "  quickchartButtonEl.style.display =\n",
              "    google.colab.kernel.accessAllowed ? 'block' : 'none';\n",
              "}\n",
              "\n",
              "        displayQuickchartButton(document);\n",
              "      </script>\n",
              "      <style>\n",
              "    .colab-df-container {\n",
              "      display:flex;\n",
              "      flex-wrap:wrap;\n",
              "      gap: 12px;\n",
              "    }\n",
              "\n",
              "    .colab-df-convert {\n",
              "      background-color: #E8F0FE;\n",
              "      border: none;\n",
              "      border-radius: 50%;\n",
              "      cursor: pointer;\n",
              "      display: none;\n",
              "      fill: #1967D2;\n",
              "      height: 32px;\n",
              "      padding: 0 0 0 0;\n",
              "      width: 32px;\n",
              "    }\n",
              "\n",
              "    .colab-df-convert:hover {\n",
              "      background-color: #E2EBFA;\n",
              "      box-shadow: 0px 1px 2px rgba(60, 64, 67, 0.3), 0px 1px 3px 1px rgba(60, 64, 67, 0.15);\n",
              "      fill: #174EA6;\n",
              "    }\n",
              "\n",
              "    [theme=dark] .colab-df-convert {\n",
              "      background-color: #3B4455;\n",
              "      fill: #D2E3FC;\n",
              "    }\n",
              "\n",
              "    [theme=dark] .colab-df-convert:hover {\n",
              "      background-color: #434B5C;\n",
              "      box-shadow: 0px 1px 3px 1px rgba(0, 0, 0, 0.15);\n",
              "      filter: drop-shadow(0px 1px 2px rgba(0, 0, 0, 0.3));\n",
              "      fill: #FFFFFF;\n",
              "    }\n",
              "  </style>\n",
              "\n",
              "      <script>\n",
              "        const buttonEl =\n",
              "          document.querySelector('#df-f0f50fa8-d57e-445d-aef3-065d7c77a87b button.colab-df-convert');\n",
              "        buttonEl.style.display =\n",
              "          google.colab.kernel.accessAllowed ? 'block' : 'none';\n",
              "\n",
              "        async function convertToInteractive(key) {\n",
              "          const element = document.querySelector('#df-f0f50fa8-d57e-445d-aef3-065d7c77a87b');\n",
              "          const dataTable =\n",
              "            await google.colab.kernel.invokeFunction('convertToInteractive',\n",
              "                                                     [key], {});\n",
              "          if (!dataTable) return;\n",
              "\n",
              "          const docLinkHtml = 'Like what you see? Visit the ' +\n",
              "            '<a target=\"_blank\" href=https://colab.research.google.com/notebooks/data_table.ipynb>data table notebook</a>'\n",
              "            + ' to learn more about interactive tables.';\n",
              "          element.innerHTML = '';\n",
              "          dataTable['output_type'] = 'display_data';\n",
              "          await google.colab.output.renderOutput(dataTable, element);\n",
              "          const docLink = document.createElement('div');\n",
              "          docLink.innerHTML = docLinkHtml;\n",
              "          element.appendChild(docLink);\n",
              "        }\n",
              "      </script>\n",
              "    </div>\n",
              "  </div>\n"
            ]
          },
          "metadata": {},
          "execution_count": 97
        }
      ]
    },
    {
      "cell_type": "code",
      "source": [
        "rcParams['figure.figsize'] = 10, 8 # width 10, height 8\n",
        "\n",
        "ax = train.plot(x='Date', y='Price', style='b-', grid=True)\n",
        "ax = cv.plot(x='Date', y='Price', style='y-', grid=True, ax=ax)\n",
        "ax = test.plot(x='Date', y='Price', style='g-', grid=True, ax=ax)\n",
        "ax = test.plot(x='Date', y='est_N3', style='r-', grid=True, ax=ax)\n",
        "ax.legend(['train', 'cv', 'test', 'predictions with N_opt=3'])\n",
        "ax.set_xlabel(\"date\")\n",
        "ax.set_ylabel(\"INR\")"
      ],
      "metadata": {
        "colab": {
          "base_uri": "https://localhost:8080/",
          "height": 657
        },
        "id": "ZaVXXqclc6x4",
        "outputId": "2a8ad0e7-03e3-42cb-967d-a172d0f0119e"
      },
      "execution_count": null,
      "outputs": [
        {
          "output_type": "execute_result",
          "data": {
            "text/plain": [
              "Text(0, 0.5, 'INR')"
            ]
          },
          "metadata": {},
          "execution_count": 72
        },
        {
          "output_type": "display_data",
          "data": {
            "text/plain": [
              "<Figure size 1000x800 with 1 Axes>"
            ],
            "image/png": "[encoded data removed]"
          },
          "metadata": {}
        }
      ]
    },
    {
      "cell_type": "markdown",
      "source": [
        "Prediction using LSTM network"
      ],
      "metadata": {
        "id": "S_fj05MT6S_E"
      }
    },
    {
      "cell_type": "code",
      "source": [
        "def get_final_data(data, N, offset):\n",
        "\n",
        "    x, y = [], []\n",
        "    for i in range(offset, len(data)):\n",
        "        x.append(data[i-N:i])\n",
        "        y.append(data[i])\n",
        "    x = np.array(x)\n",
        "    y = np.array(y)\n",
        "\n",
        "    return x, y"
      ],
      "metadata": {
        "id": "gAZ90bw-_jzx"
      },
      "execution_count": null,
      "outputs": []
    },
    {
      "cell_type": "code",
      "source": [
        "scaler = StandardScaler()\n",
        "train_scaled = scaler.fit_transform(np.array(train['Price']).reshape(-1,1))\n",
        "print(\"scaler.mean_ = \" + str(scaler.mean_))\n",
        "print(\"scaler.var_ = \" + str(scaler.var_))\n",
        "\n",
        "# Split into x and y\n",
        "x_train_scaled, y_train_scaled = get_final_data(train_scaled, N, N)\n",
        "print(\"x_train_scaled.shape = \" + str(x_train_scaled.shape)) # (446, 7, 1)\n",
        "print(\"y_train_scaled.shape = \" + str(y_train_scaled.shape)) # (446, 1)"
      ],
      "metadata": {
        "colab": {
          "base_uri": "https://localhost:8080/"
        },
        "id": "pDZ2aK2W_YwB",
        "outputId": "b3c34df0-8edd-4e56-f86e-73aa4d20e450"
      },
      "execution_count": null,
      "outputs": [
        {
          "output_type": "stream",
          "name": "stdout",
          "text": [
            "scaler.mean_ = [584.0808792]\n",
            "scaler.var_ = [89997.96325663]\n",
            "x_train_scaled.shape = (1396, 3, 1)\n",
            "y_train_scaled.shape = (1396, 1)\n"
          ]
        }
      ]
    },
    {
      "cell_type": "code",
      "source": [
        "lstm_units = 50\n",
        "prob = 0.5\n",
        "epochs = 10\n",
        "batch = 5"
      ],
      "metadata": {
        "id": "SUy3QzuW_2f9"
      },
      "execution_count": null,
      "outputs": []
    },
    {
      "cell_type": "code",
      "source": [
        "model = Sequential()\n",
        "model.add(LSTM(units=lstm_units, return_sequences=True, input_shape=(x_train_scaled.shape[1],1)))\n",
        "model.add(Dropout(prob)) # Add dropout with a probability of 0.5\n",
        "model.add(LSTM(units=lstm_units))\n",
        "model.add(Dropout(prob)) # Add dropout with a probability of 0.5\n",
        "model.add(Dense(1))\n",
        "\n",
        "model.compile(loss='mean_squared_error', optimizer='adam')\n",
        "model.fit(x_train_scaled, y_train_scaled, epochs=epochs, batch_size=batch, verbose=2)"
      ],
      "metadata": {
        "colab": {
          "base_uri": "https://localhost:8080/"
        },
        "id": "-eawSbC1_v5T",
        "outputId": "ae6a6f7c-20fb-4c4b-944e-7f89141cd044"
      },
      "execution_count": null,
      "outputs": [
        {
          "output_type": "stream",
          "name": "stdout",
          "text": [
            "Epoch 1/10\n",
            "280/280 - 6s - loss: 0.1354 - 6s/epoch - 20ms/step\n",
            "Epoch 2/10\n",
            "280/280 - 2s - loss: 0.0364 - 2s/epoch - 6ms/step\n",
            "Epoch 3/10\n",
            "280/280 - 2s - loss: 0.0387 - 2s/epoch - 7ms/step\n",
            "Epoch 4/10\n",
            "280/280 - 2s - loss: 0.0396 - 2s/epoch - 7ms/step\n",
            "Epoch 5/10\n",
            "280/280 - 2s - loss: 0.0326 - 2s/epoch - 6ms/step\n",
            "Epoch 6/10\n",
            "280/280 - 2s - loss: 0.0342 - 2s/epoch - 6ms/step\n",
            "Epoch 7/10\n",
            "280/280 - 2s - loss: 0.0333 - 2s/epoch - 6ms/step\n",
            "Epoch 8/10\n",
            "280/280 - 2s - loss: 0.0327 - 2s/epoch - 6ms/step\n",
            "Epoch 9/10\n",
            "280/280 - 2s - loss: 0.0318 - 2s/epoch - 6ms/step\n",
            "Epoch 10/10\n",
            "280/280 - 2s - loss: 0.0326 - 2s/epoch - 7ms/step\n"
          ]
        },
        {
          "output_type": "execute_result",
          "data": {
            "text/plain": [
              "<keras.callbacks.History at 0x7c29797e3fd0>"
            ]
          },
          "metadata": {},
          "execution_count": 104
        }
      ]
    },
    {
      "cell_type": "code",
      "source": [
        "\n",
        "model.summary()"
      ],
      "metadata": {
        "colab": {
          "base_uri": "https://localhost:8080/"
        },
        "id": "3twQMH_fARk-",
        "outputId": "57b49038-f78f-40a9-881b-98dff6ad94c2"
      },
      "execution_count": null,
      "outputs": [
        {
          "output_type": "stream",
          "name": "stdout",
          "text": [
            "Model: \"sequential_14\"\n",
            "_________________________________________________________________\n",
            " Layer (type)                Output Shape              Param #   \n",
            "=================================================================\n",
            " lstm_18 (LSTM)              (None, 3, 50)             10400     \n",
            "                                                                 \n",
            " dropout_17 (Dropout)        (None, 3, 50)             0         \n",
            "                                                                 \n",
            " lstm_19 (LSTM)              (None, 50)                20200     \n",
            "                                                                 \n",
            " dropout_18 (Dropout)        (None, 50)                0         \n",
            "                                                                 \n",
            " dense_8 (Dense)             (None, 1)                 51        \n",
            "                                                                 \n",
            "=================================================================\n",
            "Total params: 30,651\n",
            "Trainable params: 30,651\n",
            "Non-trainable params: 0\n",
            "_________________________________________________________________\n"
          ]
        }
      ]
    },
    {
      "cell_type": "code",
      "source": [
        "scaler_final = StandardScaler()\n",
        "train_cv_scaled_final = scaler_final.fit_transform(np.array(train_cv['Price']).reshape(-1,1))\n",
        "print(\"scaler_final.mean_ = \" + str(scaler_final.mean_))\n",
        "print(\"scaler_final.var_ = \" + str(scaler_final.var_))"
      ],
      "metadata": {
        "colab": {
          "base_uri": "https://localhost:8080/"
        },
        "id": "sij4psmBAUQQ",
        "outputId": "a109be4c-dd89-4c24-c798-086776da9bb0"
      },
      "execution_count": null,
      "outputs": [
        {
          "output_type": "stream",
          "name": "stdout",
          "text": [
            "scaler_final.mean_ = [728.97588988]\n",
            "scaler_final.var_ = [153971.39534056]\n"
          ]
        }
      ]
    },
    {
      "cell_type": "code",
      "source": [
        "def scaled_x_y(data, N, offset):\n",
        "\n",
        "    x_scaled, y, mean_list, std_list = [], [], [], []\n",
        "    for i in range(offset, len(data)):\n",
        "        mean_list.append(np.mean(data[i-N:i]))\n",
        "        std_list.append(np.std(data[i-N:i]))\n",
        "        x_scaled.append((data[i-N:i]-mean_list[i-offset])/std_list[i-offset])\n",
        "        y.append(data[i])\n",
        "    x_scaled = np.array(x_scaled)\n",
        "    y = np.array(y)\n",
        "\n",
        "    return x_scaled, y, mean_list, std_list"
      ],
      "metadata": {
        "id": "ZQU82Z_VE2UJ"
      },
      "execution_count": null,
      "outputs": []
    },
    {
      "cell_type": "code",
      "source": [
        "x_cv_scaled, y_cv, mean_cv_list, std_cv_list = scaled_x_y(np.array(train_cv['Price']).reshape(-1,1), N, num_train)\n",
        "print(\"x_cv_scaled.shape = \" + str(x_cv_scaled.shape))\n",
        "print(\"y_cv.shape = \" + str(y_cv.shape))\n",
        "print(\"len(mean_cv_list) = \" + str(len(mean_cv_list)))\n",
        "print(\"len(std_cv_list) = \" + str(len(std_cv_list)))"
      ],
      "metadata": {
        "colab": {
          "base_uri": "https://localhost:8080/"
        },
        "id": "A23cuwruFIin",
        "outputId": "fc18ca5b-3c43-4179-b484-86fca48e4e7b"
      },
      "execution_count": null,
      "outputs": [
        {
          "output_type": "stream",
          "name": "stdout",
          "text": [
            "x_cv_scaled.shape = (399, 3, 1)\n",
            "y_cv.shape = (399, 1)\n",
            "len(mean_cv_list) = 399\n",
            "len(std_cv_list) = 399\n"
          ]
        }
      ]
    },
    {
      "cell_type": "code",
      "source": [
        "x_test_scaled, y_test, mean_test_list, std_test_list = scaled_x_y(np.array(df['Price']).reshape(-1,1), N, num_train+num_cv)\n",
        "print(\"x_test_scaled.shape = \" + str(x_test_scaled.shape))\n",
        "print(\"y_test.shape = \" + str(y_test.shape))\n",
        "print(\"len(mean_test_list) = \" + str(len(mean_test_list)))\n",
        "print(\"len(std_test_list) = \" + str(len(std_test_list)))"
      ],
      "metadata": {
        "colab": {
          "base_uri": "https://localhost:8080/"
        },
        "id": "3wN_NPqmFOxo",
        "outputId": "95637ad1-eff8-4c53-d5bb-db1e506c4f64"
      },
      "execution_count": null,
      "outputs": [
        {
          "output_type": "stream",
          "name": "stdout",
          "text": [
            "x_test_scaled.shape = (199, 3, 1)\n",
            "y_test.shape = (199, 1)\n",
            "len(mean_test_list) = 199\n",
            "len(std_test_list) = 199\n"
          ]
        }
      ]
    },
    {
      "cell_type": "code",
      "source": [
        "#prediction on cv\n",
        "est_scaled = model.predict(x_cv_scaled)\n",
        "est = (est_scaled * np.array(std_cv_list).reshape(-1,1)) + np.array(mean_cv_list).reshape(-1,1)\n",
        "print(\"est.shape = \" + str(est.shape))\n",
        "\n",
        "\n",
        "# Calculate MAPE\n",
        "mape_pct_bef_tuning = get_mape(y_cv, est)\n",
        "print(\"MAPE = %0.3f%%\" % mape_pct_bef_tuning)\n"
      ],
      "metadata": {
        "colab": {
          "base_uri": "https://localhost:8080/"
        },
        "id": "Jh0SNNqxGA9G",
        "outputId": "fe2b16bf-2878-4910-b093-483a3f8ec711"
      },
      "execution_count": null,
      "outputs": [
        {
          "output_type": "stream",
          "name": "stdout",
          "text": [
            "13/13 [==============================] - 0s 7ms/step\n",
            "est.shape = (399, 1)\n",
            "MAPE = 2.288%\n"
          ]
        }
      ]
    },
    {
      "cell_type": "code",
      "source": [],
      "metadata": {
        "id": "TQ8OOXwcGqfh"
      },
      "execution_count": null,
      "outputs": []
    }
  ]
}